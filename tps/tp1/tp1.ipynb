{
 "cells": [
  {
   "cell_type": "markdown",
   "id": "472841ee",
   "metadata": {},
   "source": [
    "\n",
    "# TP1 : Web scraping et APIs – Correction\n",
    "\n",
    "Cette version corrigée du TP1 répond aux consignes du devoir :\n",
    "\n",
    "* télécharger automatiquement les 51 fichiers PDF du corpus CAMille via du web scraping ;\n",
    "* choisir et interroger une API utile pour enrichir le corpus (ici l'API [Genderize](https://api.genderize.io/) qui prédit le genre probable d'un prénom)【688134311751931†L0-L0】 ;\n",
    "* documenter chaque étape et utiliser Python et BeautifulSoup.\n",
    "\n"
   ]
  },
  {
   "cell_type": "code",
   "execution_count": null,
   "id": "f38fdc16",
   "metadata": {},
   "outputs": [],
   "source": [
    "import os\n",
    "import time\n",
    "import requests\n",
    "from bs4 import BeautifulSoup\n",
    "\n"
   ]
  },
  {
   "cell_type": "code",
   "execution_count": null,
   "id": "ad5bdcc5",
   "metadata": {},
   "outputs": [],
   "source": [
    "# URL racine contenant les 51 fichiers PDF du corpus CAMille\n",
    "root_url = 'https://max.de.wilde.web.ulb.be/camille/'\n",
    "\n",
    "# Envoi de la requête avec un User-Agent pour éviter les blocages\n",
    "headers = {'User-Agent': 'Mozilla/5.0'}\n",
    "response = requests.get(root_url, headers=headers)\n",
    "response.raise_for_status()\n",
    "\n",
    "# Parsing du HTML\n",
    "soup = BeautifulSoup(response.text, 'html.parser')\n",
    "\n",
    "# Récupération de tous les liens vers les fichiers PDF\n",
    "links = soup.find_all('a')\n",
    "pdf_links = []\n",
    "for link in links:\n",
    "    href = link.get('href')\n",
    "    if href and href.lower().endswith('.pdf'):\n",
    "        # Construction de l'URL absolue\n",
    "        pdf_links.append(root_url + href)\n",
    "\n",
    "print(f\"Nombre de fichiers PDF trouvés : {len(pdf_links)}\")\n",
    "print('Les cinq premiers liens :')\n",
    "for l in pdf_links[:5]:\n",
    "    print(l)\n",
    "\n"
   ]
  },
  {
   "cell_type": "code",
   "execution_count": null,
   "id": "653adbd3",
   "metadata": {},
   "outputs": [],
   "source": [
    "# Création du dossier de sortie pour les PDF\n",
    "output_dir = 'data/camille_pdfs'\n",
    "os.makedirs(output_dir, exist_ok=True)\n",
    "\n",
    "# Téléchargement de chaque PDF avec gestion des doublons\n",
    "for idx, link in enumerate(pdf_links, 1):\n",
    "    filename = link.split('/')[-1]\n",
    "    out_path = os.path.join(output_dir, filename)\n",
    "    if os.path.exists(out_path):\n",
    "        print(f\"{idx}/{len(pdf_links)} - {filename} déjà présent, on passe.\")\n",
    "        continue\n",
    "    try:\n",
    "        print(f\"{idx}/{len(pdf_links)} - Téléchargement de {filename} ...\")\n",
    "        pdf_resp = requests.get(link, headers=headers)\n",
    "        pdf_resp.raise_for_status()\n",
    "        with open(out_path, 'wb') as f:\n",
    "            f.write(pdf_resp.content)\n",
    "        time.sleep(0.5)  # pause légère pour ne pas saturer le serveur\n",
    "    except Exception as e:\n",
    "        print(f\"Erreur lors du téléchargement de {filename}: {e}\")\n",
    "\n",
    "print('Téléchargements terminés.')\n"
   ]
  },
  {
   "cell_type": "markdown",
   "id": "5d728c74",
   "metadata": {},
   "source": [
    "\n",
    "## Choix d'une API pour enrichir le corpus\n",
    "\n",
    "Plutôt que d'utiliser l'API initialement sélectionnée mais désormais obsolète, nous avons choisi l'API **Genderize** qui, à partir d'un prénom, renvoie un genre probable (masculin ou féminin) ainsi qu'une probabilité associée. Cette API est simple d'utilisation et peut enrichir le corpus en indiquant le genre probable des personnes citées dans les articles.\n",
    "\n",
    "Par exemple, une requête sur l'URL `https://api.genderize.io/?name=alice` renvoie un objet JSON contenant le prénom, le genre estimé, la probabilité et un compteur de corpus【688134311751931†L0-L0】.\n"
   ]
  },
  {
   "cell_type": "code",
   "execution_count": null,
   "id": "e3ebcb3f",
   "metadata": {},
   "outputs": [],
   "source": [
    "def predict_gender(name):\n",
    "    # Appel à l'API Genderize pour un prénom donné\n",
    "    url = 'https://api.genderize.io/'\n",
    "    params = {'name': name}\n",
    "    try:\n",
    "        r = requests.get(url, params=params)\n",
    "        r.raise_for_status()\n",
    "        data = r.json()\n",
    "        return data.get('gender'), data.get('probability')\n",
    "    except Exception as e:\n",
    "        print(f\"Erreur lors de la requête pour {name}: {e}\")\n",
    "        return None, None\n",
    "\n",
    "# Exemples d'utilisation\n",
    "sample_names = ['Jean', 'Marie', 'Pierre', 'Alice']\n",
    "for name in sample_names:\n",
    "    gender, prob = predict_gender(name)\n",
    "    print(f\"{name} -> genre : {gender}, probabilité : {prob}\")\n"
   ]
  },
  {
   "cell_type": "markdown",
   "id": "9cc1cb80",
   "metadata": {},
   "source": [
    "\n",
    "## Conclusion\n",
    "\n",
    "Ce notebook télécharge automatiquement les 51 fichiers PDF du corpus CAMille et illustre l'utilisation d'une API externe pour enrichir le corpus. Vous pouvez adapter la fonction `predict_gender` à des listes de prénoms extraits des articles pour obtenir une annotation du genre probable des personnes mentionnées.\n"
   ]
  }
 ],
 "metadata": {},
 "nbformat": 4,
 "nbformat_minor": 5
}
