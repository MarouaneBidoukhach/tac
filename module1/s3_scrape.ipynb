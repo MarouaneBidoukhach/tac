{
 "cells": [
  {
   "cell_type": "markdown",
   "metadata": {},
   "source": [
    "# Scraping: récupération de la page d'accueil du journal Le Soir\n",
    "\n",
    "Dans ce notebook, nous créons un robot qui va ouvrir la page d'accueil du site du journal [Le Soir](https://www.lesoir.be/) et récupérer le titre de tous les articles du jour et les stocker dans un fichier csv."
   ]
  },
  {
   "cell_type": "markdown",
   "metadata": {},
   "source": [
    "## Imports"
   ]
  },
  {
   "cell_type": "code",
   "execution_count": 3,
   "metadata": {},
   "outputs": [],
   "source": [
    "import os\n",
    "import re\n",
    "import time\n",
    "import requests\n",
    "from bs4 import BeautifulSoup\n",
    "import pandas as pd"
   ]
  },
  {
   "cell_type": "markdown",
   "metadata": {},
   "source": [
    "## Récupération de tous les articles de la page d'accueil\n",
    "\n"
   ]
  },
  {
   "cell_type": "code",
   "execution_count": 22,
   "metadata": {},
   "outputs": [
    {
     "name": "stdout",
     "output_type": "stream",
     "text": [
      "<a href=\"KB_JB230_1892-08-07_01-0003.pdf\">\n",
      " KB_JB230_1892-08-07_01-0003.pdf\n",
      "</a>\n",
      "<br/>\n",
      "<a href=\"KB_JB427_1920-01-10_01-00004.pdf\">\n",
      " KB_JB427_1920-01-10_01-00004.pdf\n",
      "</a>\n",
      "<br/>\n",
      "<a href=\"KB_JB555_1836-02-08_01-00002.pdf\">\n",
      " KB_JB555_1836-02-08_01-00002.pdf\n",
      "</a>\n",
      "<br/>\n",
      "<a href=\"KB_JB638_1860-05-21_01-00002.pdf\">\n",
      " KB_JB638_1860-05-21_01-00002.pdf\n",
      "</a>\n",
      "<br/>\n",
      "<a href=\"KB_JB773_1918-11-30_01-00002.pdf\">\n",
      " KB_JB773_1918-11-30_01-00002.pdf\n",
      "</a>\n",
      "<br/>\n",
      "<a href=\"KB_JB838_1887-12-28_01-00003.pdf\">\n",
      " KB_JB838_1887-12-28_01-00003.pdf\n",
      "</a>\n",
      "<br/>\n",
      "<a href=\"KB_JB230_1903-10-16_01-0002.pdf\">\n",
      " KB_JB230_1903-10-16_01-0002.pdf\n",
      "</a>\n",
      "<br/>\n",
      "<a href=\"KB_JB427_1933-01-04_01-00003.pdf\">\n",
      " KB_JB427_1933-01-04_01-00003.pdf\n",
      "</a>\n",
      "<br/>\n",
      "<a href=\"KB_JB555_1899-01-19_01-00003.pdf\">\n",
      " KB_JB555_1899-01-19_01-00003.pdf\n",
      "</a>\n",
      "<br/>\n",
      "<a href=\"KB_JB638_1902-12-20_01-00002.pdf\">\n",
      " KB_JB638_1902-12-20_01-00002.pdf\n",
      "</a>\n",
      "<br/>\n",
      "<a href=\"KB_JB773_1933-10-07_01-00007.pdf\">\n",
      " KB_JB773_1933-10-07_01-00007.pdf\n",
      "</a>\n",
      "<br/>\n",
      "<a href=\"KB_JB838_1911-08-03_01-00006.pdf\">\n",
      " KB_JB838_1911-08-03_01-00006.pdf\n",
      "</a>\n",
      "<br/>\n",
      "<a href=\"KB_JB230_1913-07-05_01-0001.pdf\">\n",
      " KB_JB230_1913-07-05_01-0001.pdf\n",
      "</a>\n",
      "<br/>\n",
      "<a href=\"KB_JB427_1949-07-18_01-00008.pdf\">\n",
      " KB_JB427_1949-07-18_01-00008.pdf\n",
      "</a>\n",
      "<br/>\n",
      "<a href=\"KB_JB555_1940-03-01_01-00004.pdf\">\n",
      " KB_JB555_1940-03-01_01-00004.pdf\n",
      "</a>\n",
      "<br/>\n",
      "<a href=\"KB_JB638_1946-07-18_01-00003.pdf\">\n",
      " KB_JB638_1946-07-18_01-00003.pdf\n",
      "</a>\n",
      "<br/>\n",
      "<a href=\"KB_JB773_1950-07-22_01-00010.pdf\">\n",
      " KB_JB773_1950-07-22_01-00010.pdf\n",
      "</a>\n",
      "<br/>\n",
      "<a href=\"KB_JB838_1943-09-04_01-00002.pdf\">\n",
      " KB_JB838_1943-09-04_01-00002.pdf\n",
      "</a>\n",
      "<br/>\n",
      "<a href=\"KB_JB258_1884-09-03_01-0003.pdf\">\n",
      " KB_JB258_1884-09-03_01-0003.pdf\n",
      "</a>\n",
      "<br/>\n",
      "<a href=\"KB_JB449_1846-05-30_01-00002.pdf\">\n",
      " KB_JB449_1846-05-30_01-00002.pdf\n",
      "</a>\n",
      "<br/>\n",
      "<a href=\"KB_JB567_1857-02-02_01-00003.pdf\">\n",
      " KB_JB567_1857-02-02_01-00003.pdf\n",
      "</a>\n",
      "<br/>\n",
      "<a href=\"KB_JB685_1894-05-14_01-0003.pdf\">\n",
      " KB_JB685_1894-05-14_01-0003.pdf\n",
      "</a>\n",
      "<br/>\n",
      "<a href=\"KB_JB835_1911-04-24_01-00004.pdf\">\n",
      " KB_JB835_1911-04-24_01-00004.pdf\n",
      "</a>\n",
      "<br/>\n",
      "<a href=\"KB_JB92_1860-02-09_01-00003.pdf\">\n",
      " KB_JB92_1860-02-09_01-00003.pdf\n",
      "</a>\n",
      "<br/>\n",
      "<a href=\"KB_JB258_1894-12-09_01-0003.pdf\">\n",
      " KB_JB258_1894-12-09_01-0003.pdf\n",
      "</a>\n",
      "<br/>\n",
      "<a href=\"KB_JB449_1912-01-04_01-00003.pdf\">\n",
      " KB_JB449_1912-01-04_01-00003.pdf\n",
      "</a>\n",
      "<br/>\n",
      "<a href=\"KB_JB567_1892-01-03_01-00005.pdf\">\n",
      " KB_JB567_1892-01-03_01-00005.pdf\n",
      "</a>\n",
      "<br/>\n",
      "<a href=\"KB_JB685_1903-01-18_01-0002.pdf\">\n",
      " KB_JB685_1903-01-18_01-0002.pdf\n",
      "</a>\n",
      "<br/>\n",
      "<a href=\"KB_JB835_1930-04-08_01-00006.pdf\">\n",
      " KB_JB835_1930-04-08_01-00006.pdf\n",
      "</a>\n",
      "<br/>\n",
      "<a href=\"KB_JB92_1873-02-06_01-00002.pdf\">\n",
      " KB_JB92_1873-02-06_01-00002.pdf\n",
      "</a>\n",
      "<br/>\n",
      "<a href=\"KB_JB258_1906-01-09_01-0002.pdf\">\n",
      " KB_JB258_1906-01-09_01-0002.pdf\n",
      "</a>\n",
      "<br/>\n",
      "<a href=\"KB_JB449_1947-08-29_01-00003.pdf\">\n",
      " KB_JB449_1947-08-29_01-00003.pdf\n",
      "</a>\n",
      "<br/>\n",
      "<a href=\"KB_JB567_1924-08-30_01-00003.pdf\">\n",
      " KB_JB567_1924-08-30_01-00003.pdf\n",
      "</a>\n",
      "<br/>\n",
      "<a href=\"KB_JB685_1913-06-07_01-0006.pdf\">\n",
      " KB_JB685_1913-06-07_01-0006.pdf\n",
      "</a>\n",
      "<br/>\n",
      "<a href=\"KB_JB835_1949-09-18_01-00004.pdf\">\n",
      " KB_JB835_1949-09-18_01-00004.pdf\n",
      "</a>\n",
      "<br/>\n",
      "<a href=\"KB_JB92_1885-09-29_01-00002.pdf\">\n",
      " KB_JB92_1885-09-29_01-00002.pdf\n",
      "</a>\n",
      "<br/>\n",
      "<a href=\"KB_JB421_1899-05-15_01-00003.pdf\">\n",
      " KB_JB421_1899-05-15_01-00003.pdf\n",
      "</a>\n",
      "<br/>\n",
      "<a href=\"KB_JB494_1853-10-30_01-0002.pdf\">\n",
      " KB_JB494_1853-10-30_01-0002.pdf\n",
      "</a>\n",
      "<br/>\n",
      "<a href=\"KB_JB572_1850-03-15_01-00003.pdf\">\n",
      " KB_JB572_1850-03-15_01-00003.pdf\n",
      "</a>\n",
      "<br/>\n",
      "<a href=\"KB_JB729_1895-10-08_01-00003.pdf\">\n",
      " KB_JB729_1895-10-08_01-00003.pdf\n",
      "</a>\n",
      "<br/>\n",
      "<a href=\"KB_JB837_1886-12-28_01-00002.pdf\">\n",
      " KB_JB837_1886-12-28_01-00002.pdf\n",
      "</a>\n",
      "<br/>\n",
      "<a href=\"KB_JB421_1926-10-29_01-00002.pdf\">\n",
      " KB_JB421_1926-10-29_01-00002.pdf\n",
      "</a>\n",
      "<br/>\n",
      "<a href=\"KB_JB494_1922-09-28_01-0005.pdf\">\n",
      " KB_JB494_1922-09-28_01-0005.pdf\n",
      "</a>\n",
      "<br/>\n",
      "<a href=\"KB_JB572_1927-07-20_01-00005.pdf\">\n",
      " KB_JB572_1927-07-20_01-00005.pdf\n",
      "</a>\n",
      "<br/>\n",
      "<a href=\"KB_JB729_1927-11-15_01-00004.pdf\">\n",
      " KB_JB729_1927-11-15_01-00004.pdf\n",
      "</a>\n",
      "<br/>\n",
      "<a href=\"KB_JB837_1925-01-01_01-00003.pdf\">\n",
      " KB_JB837_1925-01-01_01-00003.pdf\n",
      "</a>\n",
      "<br/>\n",
      "<a href=\"KB_JB421_1950-04-15_01-00004.pdf\">\n",
      " KB_JB421_1950-04-15_01-00004.pdf\n",
      "</a>\n",
      "<br/>\n",
      "<a href=\"KB_JB494_1939-12-08_01-0004.pdf\">\n",
      " KB_JB494_1939-12-08_01-0004.pdf\n",
      "</a>\n",
      "<br/>\n",
      "<a href=\"KB_JB572_1950-06-07_01-00004.pdf\">\n",
      " KB_JB572_1950-06-07_01-00004.pdf\n",
      "</a>\n",
      "<br/>\n",
      "<a href=\"KB_JB729_1939-10-31_01-00006.pdf\">\n",
      " KB_JB729_1939-10-31_01-00006.pdf\n",
      "</a>\n",
      "<br/>\n",
      "<a href=\"KB_JB837_1950-12-01_01-00007.pdf\">\n",
      " KB_JB837_1950-12-01_01-00007.pdf\n",
      "</a>\n",
      "\n"
     ]
    }
   ],
   "source": [
    "import requests\n",
    "from bs4 import BeautifulSoup\n",
    "\n",
    "headers = {\n",
    "    'User-Agent': 'Mozilla/5.0 (Macintosh; Intel Mac OS X 10_10_1) AppleWebKit/537.36 (KHTML, like Gecko) Chrome/39.0.2171.95 Safari/537.36'\n",
    "}\n",
    "\n",
    "# URL de la page CAMille\n",
    "root_url = \"https://max.de.wilde.web.ulb.be/camille/\"\n",
    "\n",
    "# Envoi de la requête à la page\n",
    "response = requests.get(root_url, headers=headers)\n",
    "\n",
    "# Vérifie si la requête a réussi\n",
    "if response.status_code == 200:\n",
    "    # Parse le contenu HTML\n",
    "    soup = BeautifulSoup(response.text, 'html.parser')\n",
    "    \n",
    "    # Affiche le contenu brut de la page pour voir ce qui est récupéré\n",
    "    print(soup.prettify())\n",
    "else:\n",
    "    print(f\"Erreur lors de l'accès à la page : {response.status_code}\")\n"
   ]
  },
  {
   "cell_type": "code",
   "execution_count": 18,
   "metadata": {},
   "outputs": [
    {
     "data": {
      "text/plain": [
       "[]"
      ]
     },
     "execution_count": 18,
     "metadata": {},
     "output_type": "execute_result"
    }
   ],
   "source": [
    "# Affichage des 10 premières entrées\n",
    "articles[:10]"
   ]
  },
  {
   "cell_type": "markdown",
   "metadata": {},
   "source": [
    "## Création d'un dataframe avec les liens et les titres des articles\n"
   ]
  },
  {
   "cell_type": "code",
   "execution_count": 19,
   "metadata": {},
   "outputs": [
    {
     "data": {
      "text/html": [
       "<div>\n",
       "<style scoped>\n",
       "    .dataframe tbody tr th:only-of-type {\n",
       "        vertical-align: middle;\n",
       "    }\n",
       "\n",
       "    .dataframe tbody tr th {\n",
       "        vertical-align: top;\n",
       "    }\n",
       "\n",
       "    .dataframe thead th {\n",
       "        text-align: right;\n",
       "    }\n",
       "</style>\n",
       "<table border=\"1\" class=\"dataframe\">\n",
       "  <thead>\n",
       "    <tr style=\"text-align: right;\">\n",
       "      <th></th>\n",
       "      <th>link</th>\n",
       "      <th>title</th>\n",
       "    </tr>\n",
       "  </thead>\n",
       "  <tbody>\n",
       "  </tbody>\n",
       "</table>\n",
       "</div>"
      ],
      "text/plain": [
       "Empty DataFrame\n",
       "Columns: [link, title]\n",
       "Index: []"
      ]
     },
     "execution_count": 19,
     "metadata": {},
     "output_type": "execute_result"
    }
   ],
   "source": [
    "df = pd.DataFrame(articles, columns=['link', 'title'])\n",
    "df"
   ]
  },
  {
   "cell_type": "code",
   "execution_count": 20,
   "metadata": {},
   "outputs": [],
   "source": [
    "# Sauvegarde du dataframe dans un fichier csv\n",
    "df.to_csv(f\"../data/rtbf_{time.strftime('%Y%m%d')}.csv\", index=False)"
   ]
  },
  {
   "cell_type": "markdown",
   "metadata": {},
   "source": [
    "## Téléchargement d'un article et affichage du texte"
   ]
  },
  {
   "cell_type": "code",
   "execution_count": 23,
   "metadata": {},
   "outputs": [
    {
     "ename": "IndexError",
     "evalue": "single positional indexer is out-of-bounds",
     "output_type": "error",
     "traceback": [
      "\u001b[1;31m---------------------------------------------------------------------------\u001b[0m",
      "\u001b[1;31mIndexError\u001b[0m                                Traceback (most recent call last)",
      "Cell \u001b[1;32mIn[23], line 2\u001b[0m\n\u001b[0;32m      1\u001b[0m \u001b[38;5;66;03m# Récupération du premier lien du dataframe\u001b[39;00m\n\u001b[1;32m----> 2\u001b[0m article_url \u001b[38;5;241m=\u001b[39m \u001b[43mdf\u001b[49m\u001b[38;5;241;43m.\u001b[39;49m\u001b[43miloc\u001b[49m\u001b[43m[\u001b[49m\u001b[38;5;241;43m0\u001b[39;49m\u001b[43m]\u001b[49m[\u001b[38;5;241m0\u001b[39m]\n\u001b[0;32m      4\u001b[0m \u001b[38;5;66;03m# Ouverture de la page\u001b[39;00m\n\u001b[0;32m      5\u001b[0m response \u001b[38;5;241m=\u001b[39m requests\u001b[38;5;241m.\u001b[39mget(article_url, headers\u001b[38;5;241m=\u001b[39mheaders)\n",
      "File \u001b[1;32mc:\\Users\\Marouane Bidoukhach\\TAC2\\tac\\.env\\Lib\\site-packages\\pandas\\core\\indexing.py:1074\u001b[0m, in \u001b[0;36m_LocationIndexer.__getitem__\u001b[1;34m(self, key)\u001b[0m\n\u001b[0;32m   1071\u001b[0m axis \u001b[38;5;241m=\u001b[39m \u001b[38;5;28mself\u001b[39m\u001b[38;5;241m.\u001b[39maxis \u001b[38;5;129;01mor\u001b[39;00m \u001b[38;5;241m0\u001b[39m\n\u001b[0;32m   1073\u001b[0m maybe_callable \u001b[38;5;241m=\u001b[39m com\u001b[38;5;241m.\u001b[39mapply_if_callable(key, \u001b[38;5;28mself\u001b[39m\u001b[38;5;241m.\u001b[39mobj)\n\u001b[1;32m-> 1074\u001b[0m \u001b[38;5;28;01mreturn\u001b[39;00m \u001b[38;5;28;43mself\u001b[39;49m\u001b[38;5;241;43m.\u001b[39;49m\u001b[43m_getitem_axis\u001b[49m\u001b[43m(\u001b[49m\u001b[43mmaybe_callable\u001b[49m\u001b[43m,\u001b[49m\u001b[43m \u001b[49m\u001b[43maxis\u001b[49m\u001b[38;5;241;43m=\u001b[39;49m\u001b[43maxis\u001b[49m\u001b[43m)\u001b[49m\n",
      "File \u001b[1;32mc:\\Users\\Marouane Bidoukhach\\TAC2\\tac\\.env\\Lib\\site-packages\\pandas\\core\\indexing.py:1626\u001b[0m, in \u001b[0;36m_iLocIndexer._getitem_axis\u001b[1;34m(self, key, axis)\u001b[0m\n\u001b[0;32m   1623\u001b[0m     \u001b[38;5;28;01mraise\u001b[39;00m \u001b[38;5;167;01mTypeError\u001b[39;00m(\u001b[38;5;124m\"\u001b[39m\u001b[38;5;124mCannot index by location index with a non-integer key\u001b[39m\u001b[38;5;124m\"\u001b[39m)\n\u001b[0;32m   1625\u001b[0m \u001b[38;5;66;03m# validate the location\u001b[39;00m\n\u001b[1;32m-> 1626\u001b[0m \u001b[38;5;28;43mself\u001b[39;49m\u001b[38;5;241;43m.\u001b[39;49m\u001b[43m_validate_integer\u001b[49m\u001b[43m(\u001b[49m\u001b[43mkey\u001b[49m\u001b[43m,\u001b[49m\u001b[43m \u001b[49m\u001b[43maxis\u001b[49m\u001b[43m)\u001b[49m\n\u001b[0;32m   1628\u001b[0m \u001b[38;5;28;01mreturn\u001b[39;00m \u001b[38;5;28mself\u001b[39m\u001b[38;5;241m.\u001b[39mobj\u001b[38;5;241m.\u001b[39m_ixs(key, axis\u001b[38;5;241m=\u001b[39maxis)\n",
      "File \u001b[1;32mc:\\Users\\Marouane Bidoukhach\\TAC2\\tac\\.env\\Lib\\site-packages\\pandas\\core\\indexing.py:1558\u001b[0m, in \u001b[0;36m_iLocIndexer._validate_integer\u001b[1;34m(self, key, axis)\u001b[0m\n\u001b[0;32m   1556\u001b[0m len_axis \u001b[38;5;241m=\u001b[39m \u001b[38;5;28mlen\u001b[39m(\u001b[38;5;28mself\u001b[39m\u001b[38;5;241m.\u001b[39mobj\u001b[38;5;241m.\u001b[39m_get_axis(axis))\n\u001b[0;32m   1557\u001b[0m \u001b[38;5;28;01mif\u001b[39;00m key \u001b[38;5;241m>\u001b[39m\u001b[38;5;241m=\u001b[39m len_axis \u001b[38;5;129;01mor\u001b[39;00m key \u001b[38;5;241m<\u001b[39m \u001b[38;5;241m-\u001b[39mlen_axis:\n\u001b[1;32m-> 1558\u001b[0m     \u001b[38;5;28;01mraise\u001b[39;00m \u001b[38;5;167;01mIndexError\u001b[39;00m(\u001b[38;5;124m\"\u001b[39m\u001b[38;5;124msingle positional indexer is out-of-bounds\u001b[39m\u001b[38;5;124m\"\u001b[39m)\n",
      "\u001b[1;31mIndexError\u001b[0m: single positional indexer is out-of-bounds"
     ]
    }
   ],
   "source": [
    "# Récupération du premier lien du dataframe\n",
    "article_url = df.iloc[0][0]\n",
    "\n",
    "# Ouverture de la page\n",
    "response = requests.get(article_url, headers=headers)\n",
    "soup = BeautifulSoup(response.content, 'html.parser')\n",
    "# Parsing du contenu\n",
    "title = soup.find(\"h1\").get_text(separator=' ')\n",
    "\n",
    "paragraphs = []\n",
    "for paragraph in soup.find_all(\"p\", attrs={\"class\": None}):\n",
    "    paragraphs.append(paragraph.get_text(separator=' ').strip())\n",
    "\n",
    "content = \"\\n\".join(paragraphs)\n",
    "print(title)\n",
    "print(\"==================================\")\n",
    "print(content)"
   ]
  },
  {
   "cell_type": "markdown",
   "metadata": {},
   "source": [
    "### Nettoyage du texte à l'aide d'expressions régulières"
   ]
  },
  {
   "cell_type": "code",
   "execution_count": 24,
   "metadata": {},
   "outputs": [
    {
     "ename": "NameError",
     "evalue": "name 'content' is not defined",
     "output_type": "error",
     "traceback": [
      "\u001b[1;31m---------------------------------------------------------------------------\u001b[0m",
      "\u001b[1;31mNameError\u001b[0m                                 Traceback (most recent call last)",
      "Cell \u001b[1;32mIn[24], line 2\u001b[0m\n\u001b[0;32m      1\u001b[0m \u001b[38;5;66;03m# Suppression de tout ce qui se trouve entre parenthèses\u001b[39;00m\n\u001b[1;32m----> 2\u001b[0m clean_content \u001b[38;5;241m=\u001b[39m re\u001b[38;5;241m.\u001b[39msub(\u001b[38;5;124m\"\u001b[39m\u001b[38;5;124m\\\u001b[39m\u001b[38;5;124m([^\u001b[39m\u001b[38;5;124m\\\u001b[39m\u001b[38;5;124m)]+\u001b[39m\u001b[38;5;124m\\\u001b[39m\u001b[38;5;124m)\u001b[39m\u001b[38;5;124m\"\u001b[39m, \u001b[38;5;124m\"\u001b[39m\u001b[38;5;124m \u001b[39m\u001b[38;5;124m\"\u001b[39m, \u001b[43mcontent\u001b[49m)\n\u001b[0;32m      3\u001b[0m \u001b[38;5;66;03m# Suppression des espaces multiples\u001b[39;00m\n\u001b[0;32m      4\u001b[0m clean_content \u001b[38;5;241m=\u001b[39m re\u001b[38;5;241m.\u001b[39msub(\u001b[38;5;124m\"\u001b[39m\u001b[38;5;124m\\\u001b[39m\u001b[38;5;124ms+\u001b[39m\u001b[38;5;124m\"\u001b[39m, \u001b[38;5;124m\"\u001b[39m\u001b[38;5;124m \u001b[39m\u001b[38;5;124m\"\u001b[39m, clean_content)\n",
      "\u001b[1;31mNameError\u001b[0m: name 'content' is not defined"
     ]
    }
   ],
   "source": [
    "# Suppression de tout ce qui se trouve entre parenthèses\n",
    "clean_content = re.sub(\"\\([^\\)]+\\)\", \" \", content)\n",
    "# Suppression des espaces multiples\n",
    "clean_content = re.sub(\"\\s+\", \" \", clean_content)\n",
    "\n",
    "print(content)\n",
    "print(\"==================================\")\n",
    "print(clean_content)\n"
   ]
  },
  {
   "cell_type": "markdown",
   "metadata": {},
   "source": [
    "### Création d'un fichier avec le contenu de l'article\n"
   ]
  },
  {
   "cell_type": "code",
   "execution_count": 12,
   "metadata": {},
   "outputs": [],
   "source": [
    "with open(\"../data/rtbf_example.txt\", \"w\") as writer:\n",
    "    writer.write(f\"{title}\\n\\n{clean_content}\")"
   ]
  },
  {
   "cell_type": "markdown",
   "metadata": {},
   "source": [
    "## Pour en savoir plus"
   ]
  },
  {
   "cell_type": "markdown",
   "metadata": {},
   "source": [
    "- Le web scraping avec Python: https://realpython.com/beautiful-soup-web-scraper-python/\n",
    "- Tutoriel sur les expressions régulières: https://www.w3schools.com/python/python_regex.asp"
   ]
  }
 ],
 "metadata": {
  "kernelspec": {
   "display_name": ".env",
   "language": "python",
   "name": "python3"
  },
  "language_info": {
   "codemirror_mode": {
    "name": "ipython",
    "version": 3
   },
   "file_extension": ".py",
   "mimetype": "text/x-python",
   "name": "python",
   "nbconvert_exporter": "python",
   "pygments_lexer": "ipython3",
   "version": "3.11.9"
  }
 },
 "nbformat": 4,
 "nbformat_minor": 4
}
