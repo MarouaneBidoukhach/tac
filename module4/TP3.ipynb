{
 "cells": [
  {
   "cell_type": "markdown",
   "metadata": {},
   "source": [
    "#  TP3 : Clustering et Word2Vec"
   ]
  },
  {
   "cell_type": "markdown",
   "metadata": {},
   "source": [
    "### Marouane BIDOUKHACH - STIC "
   ]
  },
  {
   "cell_type": "markdown",
   "metadata": {},
   "source": [
    "## Imports"
   ]
  },
  {
   "cell_type": "code",
   "execution_count": 1,
   "metadata": {},
   "outputs": [],
   "source": [
    "import collections\n",
    "import os\n",
    "import string\n",
    "import sys\n",
    "\n",
    "import pandas as pd\n",
    "from nltk import word_tokenize\n",
    "from nltk.corpus import stopwords\n",
    "from pprint import pprint\n",
    "from sklearn.cluster import KMeans\n",
    "from sklearn.feature_extraction.text import TfidfVectorizer\n",
    "from sklearn.decomposition import PCA\n",
    "import numpy as np\n",
    "import matplotlib.pyplot as plt\n",
    "from scipy.spatial.distance import cosine"
   ]
  },
  {
   "cell_type": "code",
   "execution_count": 2,
   "metadata": {},
   "outputs": [
    {
     "name": "stderr",
     "output_type": "stream",
     "text": [
      "[nltk_data] Downloading package punkt to C:\\Users\\Marouane\n",
      "[nltk_data]     Bidoukhach\\AppData\\Roaming\\nltk_data...\n",
      "[nltk_data]   Package punkt is already up-to-date!\n",
      "[nltk_data] Downloading package punkt_tab to C:\\Users\\Marouane\n",
      "[nltk_data]     Bidoukhach\\AppData\\Roaming\\nltk_data...\n",
      "[nltk_data]   Package punkt_tab is already up-to-date!\n"
     ]
    },
    {
     "data": {
      "text/plain": [
       "True"
      ]
     },
     "execution_count": 2,
     "metadata": {},
     "output_type": "execute_result"
    }
   ],
   "source": [
    "import nltk\n",
    "\n",
    "nltk.download('punkt')\n",
    "nltk.download(\"punkt_tab\")"
   ]
  },
  {
   "cell_type": "code",
   "execution_count": 3,
   "metadata": {},
   "outputs": [],
   "source": [
    "data_path = \"../data/txt/\""
   ]
  },
  {
   "cell_type": "markdown",
   "metadata": {},
   "source": [
    "## Choisir une décennie"
   ]
  },
  {
   "cell_type": "code",
   "execution_count": 4,
   "metadata": {},
   "outputs": [],
   "source": [
    "DECADE = '1950'"
   ]
  },
  {
   "cell_type": "markdown",
   "metadata": {},
   "source": [
    "## Charger tous les  fichiers de la décennie et en créer une liste de textes"
   ]
  },
  {
   "cell_type": "code",
   "execution_count": 5,
   "metadata": {},
   "outputs": [],
   "source": [
    "files = [f for f in sorted(os.listdir(data_path)) if f\"_{DECADE[:-1]}\" in f]"
   ]
  },
  {
   "cell_type": "code",
   "execution_count": 6,
   "metadata": {},
   "outputs": [
    {
     "data": {
      "text/plain": [
       "['KB_JB838_1950-01-06_01-00002.txt',\n",
       " 'KB_JB838_1950-01-07_01-00013.txt',\n",
       " 'KB_JB838_1950-01-08_01-00011.txt',\n",
       " 'KB_JB838_1950-01-10_01-00006.txt',\n",
       " 'KB_JB838_1950-01-15_01-00010.txt']"
      ]
     },
     "execution_count": 6,
     "metadata": {},
     "output_type": "execute_result"
    }
   ],
   "source": [
    "# Exemple de fichiers\n",
    "files[:5]"
   ]
  },
  {
   "cell_type": "code",
   "execution_count": 7,
   "metadata": {},
   "outputs": [],
   "source": [
    "texts = [open(data_path + f, \"r\", encoding=\"utf-8\").read() for f in files]"
   ]
  },
  {
   "cell_type": "code",
   "execution_count": 8,
   "metadata": {},
   "outputs": [
    {
     "data": {
      "text/plain": [
       "'/ LE SOIR Une importante manifestation franco-belge Le Comité franco-belge du Commerce, de l’Industrie et de l’Agriculture qui. au cours de l’année écoulée et dans les circonstances les plus difficiles a rendu aux relations économiques entre les deux pays des services considérables, donnera le 12 janvier, à 19 h. 30, un dîner à l’occasion de l’anniversaire de son installation. Ce comité, qui fonct'"
      ]
     },
     "execution_count": 8,
     "metadata": {},
     "output_type": "execute_result"
    }
   ],
   "source": [
    "# Exemple de textes\n",
    "texts[0][:400]"
   ]
  },
  {
   "cell_type": "markdown",
   "metadata": {},
   "source": [
    "## Vectoriser les documents à l'aide de TF-IDF"
   ]
  },
  {
   "cell_type": "code",
   "execution_count": 9,
   "metadata": {},
   "outputs": [],
   "source": [
    "# Création d'une fonction de pré-traitement\n",
    "def preprocessing(text, stem=True):\n",
    "    \"\"\" Tokenize text and remove punctuation \"\"\"\n",
    "    text = text.translate(string.punctuation)\n",
    "    tokens = word_tokenize(text)\n",
    "    return tokens"
   ]
  },
  {
   "cell_type": "markdown",
   "metadata": {},
   "source": [
    "### Instancier le modèle TF-IDF avec ses arguments"
   ]
  },
  {
   "cell_type": "code",
   "execution_count": 10,
   "metadata": {},
   "outputs": [],
   "source": [
    "vectorizer = TfidfVectorizer(\n",
    "    tokenizer=preprocessing,\n",
    "    stop_words=stopwords.words('french'),\n",
    "    max_df=0.5,\n",
    "    min_df=0.1,\n",
    "    lowercase=True)"
   ]
  },
  {
   "cell_type": "markdown",
   "metadata": {},
   "source": [
    "### Construire la matrice de vecteurs à l'aide de la fonction `fit_transform`"
   ]
  },
  {
   "cell_type": "code",
   "execution_count": 11,
   "metadata": {},
   "outputs": [
    {
     "name": "stderr",
     "output_type": "stream",
     "text": [
      "c:\\Users\\Marouane Bidoukhach\\TAC2\\tac\\.env\\Lib\\site-packages\\sklearn\\feature_extraction\\text.py:521: UserWarning: The parameter 'token_pattern' will not be used since 'tokenizer' is not None'\n",
      "  warnings.warn(\n"
     ]
    }
   ],
   "source": [
    "tfidf_vectors = vectorizer.fit_transform(texts)"
   ]
  },
  {
   "cell_type": "code",
   "execution_count": 12,
   "metadata": {},
   "outputs": [
    {
     "data": {
      "text/plain": [
       "<1000x3506 sparse matrix of type '<class 'numpy.float64'>'\n",
       "\twith 703537 stored elements in Compressed Sparse Row format>"
      ]
     },
     "execution_count": 12,
     "metadata": {},
     "output_type": "execute_result"
    }
   ],
   "source": [
    "# Détail de la matrice\n",
    "tfidf_vectors"
   ]
  },
  {
   "cell_type": "markdown",
   "metadata": {},
   "source": [
    "### Imprimer le vecteur tf-IDF du premier document"
   ]
  },
  {
   "cell_type": "code",
   "execution_count": 13,
   "metadata": {},
   "outputs": [
    {
     "data": {
      "text/plain": [
       "parti           0.276938\n",
       "loyer           0.152177\n",
       "janvier         0.148006\n",
       "populaire       0.147153\n",
       "propriétaire    0.143666\n",
       "                  ...   \n",
       "habitants       0.000000\n",
       "agit            0.000000\n",
       "haecht          0.000000\n",
       "hainaut         0.000000\n",
       "#               0.000000\n",
       "Length: 3506, dtype: float64"
      ]
     },
     "execution_count": 13,
     "metadata": {},
     "output_type": "execute_result"
    }
   ],
   "source": [
    "pd.Series(\n",
    "    tfidf_vectors[0].toarray()[0],\n",
    "    index=vectorizer.get_feature_names_out()\n",
    "    ).sort_values(ascending=False)"
   ]
  },
  {
   "cell_type": "markdown",
   "metadata": {},
   "source": [
    "## Comprendre les vecteurs et leurs \"distances\""
   ]
  },
  {
   "cell_type": "code",
   "execution_count": 14,
   "metadata": {},
   "outputs": [
    {
     "data": {
      "text/plain": [
       "0"
      ]
     },
     "execution_count": 14,
     "metadata": {},
     "output_type": "execute_result"
    }
   ],
   "source": [
    "cosine([1, 2, 3], [1, 2, 3])"
   ]
  },
  {
   "cell_type": "code",
   "execution_count": 15,
   "metadata": {},
   "outputs": [
    {
     "data": {
      "text/plain": [
       "0.02004211298777725"
      ]
     },
     "execution_count": 15,
     "metadata": {},
     "output_type": "execute_result"
    }
   ],
   "source": [
    "cosine([1, 2, 3], [1, 2, 2])"
   ]
  },
  {
   "cell_type": "code",
   "execution_count": 16,
   "metadata": {},
   "outputs": [
    {
     "data": {
      "text/plain": [
       "0.07417990022744858"
      ]
     },
     "execution_count": 16,
     "metadata": {},
     "output_type": "execute_result"
    }
   ],
   "source": [
    "cosine([1, 2, 3], [2, 2, 2])"
   ]
  },
  {
   "cell_type": "markdown",
   "metadata": {},
   "source": [
    "### Tests sur nos documents"
   ]
  },
  {
   "cell_type": "code",
   "execution_count": 17,
   "metadata": {},
   "outputs": [],
   "source": [
    "tfidf_array = tfidf_vectors.toarray()"
   ]
  },
  {
   "cell_type": "code",
   "execution_count": 18,
   "metadata": {},
   "outputs": [
    {
     "data": {
      "text/plain": [
       "array([0.        , 0.        , 0.        , ..., 0.        , 0.        ,\n",
       "       0.03783743])"
      ]
     },
     "execution_count": 18,
     "metadata": {},
     "output_type": "execute_result"
    }
   ],
   "source": [
    "# Vecteur du document 0\n",
    "tfidf_array[0]"
   ]
  },
  {
   "cell_type": "code",
   "execution_count": 19,
   "metadata": {},
   "outputs": [
    {
     "data": {
      "text/plain": [
       "array([0.       , 0.0067047, 0.       , ..., 0.       , 0.       ,\n",
       "       0.       ])"
      ]
     },
     "execution_count": 19,
     "metadata": {},
     "output_type": "execute_result"
    }
   ],
   "source": [
    "# Vecteur du document 1\n",
    "tfidf_array[1]"
   ]
  },
  {
   "cell_type": "code",
   "execution_count": 20,
   "metadata": {},
   "outputs": [
    {
     "data": {
      "text/plain": [
       "0.9314339868905285"
      ]
     },
     "execution_count": 20,
     "metadata": {},
     "output_type": "execute_result"
    }
   ],
   "source": [
    "cosine(tfidf_array[0], tfidf_array[1])"
   ]
  },
  {
   "cell_type": "markdown",
   "metadata": {},
   "source": [
    "## Appliquer un algorithme de clustering sur les vecteurs TF-IDF des documents"
   ]
  },
  {
   "cell_type": "markdown",
   "metadata": {},
   "source": [
    "Pour en savoir plus sur le KMeans clustering :\n",
    "- https://medium.com/dataseries/k-means-clustering-explained-visually-in-5-minutes-b900cc69d175"
   ]
  },
  {
   "cell_type": "markdown",
   "metadata": {},
   "source": [
    "### Définir un nombre de clusters"
   ]
  },
  {
   "cell_type": "code",
   "execution_count": 21,
   "metadata": {},
   "outputs": [],
   "source": [
    "N_CLUSTERS = 5"
   ]
  },
  {
   "cell_type": "markdown",
   "metadata": {},
   "source": [
    "### Instancier le modèle K-Means et ses arguments"
   ]
  },
  {
   "cell_type": "code",
   "execution_count": 22,
   "metadata": {},
   "outputs": [],
   "source": [
    "km_model = KMeans(n_clusters=N_CLUSTERS)"
   ]
  },
  {
   "cell_type": "markdown",
   "metadata": {},
   "source": [
    "### Appliquer le clustering à l'aide de la fonction `fit_predict`"
   ]
  },
  {
   "cell_type": "code",
   "execution_count": 23,
   "metadata": {},
   "outputs": [],
   "source": [
    "clusters = km_model.fit_predict(tfidf_vectors)"
   ]
  },
  {
   "cell_type": "code",
   "execution_count": 24,
   "metadata": {},
   "outputs": [],
   "source": [
    "clustering = collections.defaultdict(list)\n",
    "\n",
    "for idx, label in enumerate(clusters):\n",
    "    clustering[label].append(files[idx])"
   ]
  },
  {
   "cell_type": "code",
   "execution_count": 25,
   "metadata": {},
   "outputs": [
    {
     "name": "stdout",
     "output_type": "stream",
     "text": [
      "{0: ['KB_JB838_1950-01-22_01-00014.txt',\n",
      "     'KB_JB838_1950-02-15_01-00011.txt',\n",
      "     'KB_JB838_1950-02-16_01-00014.txt',\n",
      "     'KB_JB838_1950-02-25_01-00013.txt',\n",
      "     'KB_JB838_1950-06-04_01-00016.txt',\n",
      "     'KB_JB838_1950-06-11_01-00015.txt',\n",
      "     'KB_JB838_1950-09-08_01-00012.txt',\n",
      "     'KB_JB838_1950-09-09_01-00011.txt',\n",
      "     'KB_JB838_1950-10-05_01-00012.txt',\n",
      "     'KB_JB838_1950-10-15_01-00018.txt',\n",
      "     'KB_JB838_1950-10-27_01-00014.txt',\n",
      "     'KB_JB838_1950-11-04_01-00014.txt',\n",
      "     'KB_JB838_1950-11-24_01-00013.txt',\n",
      "     'KB_JB838_1950-12-28_01-00012.txt',\n",
      "     'KB_JB838_1950-12-29_01-00014.txt',\n",
      "     'KB_JB838_1951-01-16_01-00010.txt',\n",
      "     'KB_JB838_1951-01-23_01-00011.txt',\n",
      "     'KB_JB838_1951-02-24_01-00015.txt',\n",
      "     'KB_JB838_1951-03-15_01-00016.txt',\n",
      "     'KB_JB838_1951-03-22_01-00012.txt',\n",
      "     'KB_JB838_1951-04-15_01-00019.txt',\n",
      "     'KB_JB838_1951-05-23_01-00012.txt',\n",
      "     'KB_JB838_1951-07-13_01-00013.txt',\n",
      "     'KB_JB838_1951-09-29_01-00014.txt',\n",
      "     'KB_JB838_1951-11-30_01-00012.txt',\n",
      "     'KB_JB838_1951-12-20_01-00016.txt',\n",
      "     'KB_JB838_1952-02-02_01-00014.txt',\n",
      "     'KB_JB838_1952-02-05_01-00012.txt',\n",
      "     'KB_JB838_1952-02-14_01-00011.txt',\n",
      "     'KB_JB838_1952-04-06_01-00019.txt',\n",
      "     'KB_JB838_1952-05-13_01-00012.txt',\n",
      "     'KB_JB838_1952-05-27_01-00012.txt',\n",
      "     'KB_JB838_1952-06-11_01-00011.txt',\n",
      "     'KB_JB838_1952-06-13_01-00012.txt',\n",
      "     'KB_JB838_1952-06-21_01-00011.txt',\n",
      "     'KB_JB838_1952-07-11_01-00012.txt',\n",
      "     'KB_JB838_1952-10-16_01-00013.txt',\n",
      "     'KB_JB838_1952-10-17_01-00013.txt',\n",
      "     'KB_JB838_1952-11-29_01-00017.txt',\n",
      "     'KB_JB838_1952-12-11_01-00011.txt',\n",
      "     'KB_JB838_1953-02-01_01-00020.txt',\n",
      "     'KB_JB838_1953-02-06_01-00014.txt',\n",
      "     'KB_JB838_1953-02-17_01-00011.txt',\n",
      "     'KB_JB838_1953-03-29_01-00015.txt',\n",
      "     'KB_JB838_1953-04-29_01-00012.txt',\n",
      "     'KB_JB838_1953-05-08_01-00014.txt',\n",
      "     'KB_JB838_1953-07-05_01-00019.txt',\n",
      "     'KB_JB838_1953-07-12_01-00015.txt',\n",
      "     'KB_JB838_1953-10-03_01-00017.txt',\n",
      "     'KB_JB838_1953-10-17_01-00017.txt',\n",
      "     'KB_JB838_1953-10-29_01-00015.txt',\n",
      "     'KB_JB838_1953-12-13_01-00018.txt',\n",
      "     'KB_JB838_1954-01-12_01-00012.txt',\n",
      "     'KB_JB838_1954-01-16_01-00017.txt',\n",
      "     'KB_JB838_1954-03-05_01-00014.txt',\n",
      "     'KB_JB838_1954-03-27_01-00019.txt',\n",
      "     'KB_JB838_1954-04-06_01-00013.txt',\n",
      "     'KB_JB838_1954-04-11_01-00017.txt',\n",
      "     'KB_JB838_1954-06-23_01-00012.txt',\n",
      "     'KB_JB838_1954-07-02_01-00013.txt',\n",
      "     'KB_JB838_1954-07-27_01-00012.txt',\n",
      "     'KB_JB838_1954-08-07_01-00012.txt',\n",
      "     'KB_JB838_1954-09-17_01-00012.txt',\n",
      "     'KB_JB838_1954-10-02_01-00016.txt',\n",
      "     'KB_JB838_1954-10-14_01-00019.txt',\n",
      "     'KB_JB838_1954-10-17_01-00017.txt',\n",
      "     'KB_JB838_1955-01-18_01-00011.txt',\n",
      "     'KB_JB838_1955-02-06_01-00018.txt',\n",
      "     'KB_JB838_1955-02-16_01-00014.txt',\n",
      "     'KB_JB838_1955-03-03_01-00015.txt',\n",
      "     'KB_JB838_1955-03-08_01-00012.txt',\n",
      "     'KB_JB838_1955-04-27_01-00017.txt',\n",
      "     'KB_JB838_1955-06-11_01-00019.txt',\n",
      "     'KB_JB838_1955-08-25_01-00016.txt',\n",
      "     'KB_JB838_1955-09-01_01-00015.txt',\n",
      "     'KB_JB838_1955-09-04_01-00017.txt',\n",
      "     'KB_JB838_1955-09-07_01-00017.txt',\n",
      "     'KB_JB838_1955-09-08_01-00018.txt',\n",
      "     'KB_JB838_1955-09-09_01-00016.txt',\n",
      "     'KB_JB838_1955-09-18_01-00019.txt',\n",
      "     'KB_JB838_1955-10-19_01-00016.txt',\n",
      "     'KB_JB838_1955-10-23_01-00019.txt',\n",
      "     'KB_JB838_1955-11-17_01-00018.txt',\n",
      "     'KB_JB838_1955-12-17_01-00015.txt',\n",
      "     'KB_JB838_1956-02-25_01-00016.txt',\n",
      "     'KB_JB838_1956-03-03_01-00019.txt',\n",
      "     'KB_JB838_1956-03-25_01-00018.txt',\n",
      "     'KB_JB838_1956-04-08_01-00018.txt',\n",
      "     'KB_JB838_1956-04-14_01-00018.txt',\n",
      "     'KB_JB838_1956-04-17_01-00015.txt',\n",
      "     'KB_JB838_1956-04-26_01-00021.txt',\n",
      "     'KB_JB838_1956-04-27_01-00021.txt',\n",
      "     'KB_JB838_1956-05-02_01-00019.txt',\n",
      "     'KB_JB838_1956-06-09_01-00020.txt',\n",
      "     'KB_JB838_1956-08-17_01-00016.txt',\n",
      "     'KB_JB838_1956-08-21_01-00012.txt',\n",
      "     'KB_JB838_1956-09-02_01-00019.txt',\n",
      "     'KB_JB838_1956-09-19_01-00016.txt',\n",
      "     'KB_JB838_1956-09-28_01-00016.txt',\n",
      "     'KB_JB838_1956-10-19_01-00020.txt',\n",
      "     'KB_JB838_1956-11-10_01-00016.txt',\n",
      "     'KB_JB838_1956-11-13_01-00014.txt',\n",
      "     'KB_JB838_1956-11-29_01-00020.txt',\n",
      "     'KB_JB838_1956-12-20_01-00019.txt',\n",
      "     'KB_JB838_1956-12-20_01-00021.txt',\n",
      "     'KB_JB838_1956-12-28_01-00016.txt',\n",
      "     'KB_JB838_1957-01-24_01-00018.txt',\n",
      "     'KB_JB838_1957-02-03_01-00019.txt',\n",
      "     'KB_JB838_1957-02-09_01-00015.txt',\n",
      "     'KB_JB838_1957-02-20_01-00015.txt',\n",
      "     'KB_JB838_1957-02-27_01-00014.txt',\n",
      "     'KB_JB838_1957-02-28_01-00019.txt',\n",
      "     'KB_JB838_1957-07-25_01-00016.txt',\n",
      "     'KB_JB838_1957-08-20_01-00012.txt',\n",
      "     'KB_JB838_1957-10-03_01-00020.txt',\n",
      "     'KB_JB838_1957-10-11_01-00018.txt',\n",
      "     'KB_JB838_1957-10-30_01-00017.txt',\n",
      "     'KB_JB838_1957-11-14_01-00018.txt',\n",
      "     'KB_JB838_1957-12-07_01-00019.txt',\n",
      "     'KB_JB838_1958-02-18_01-00014.txt',\n",
      "     'KB_JB838_1958-03-06_01-00021.txt',\n",
      "     'KB_JB838_1958-03-16_01-00018.txt',\n",
      "     'KB_JB838_1958-03-16_01-00020.txt',\n",
      "     'KB_JB838_1958-05-09_01-00018.txt',\n",
      "     'KB_JB838_1958-05-31_01-00021.txt',\n",
      "     'KB_JB838_1958-06-17_01-00013.txt',\n",
      "     'KB_JB838_1958-06-29_01-00018.txt',\n",
      "     'KB_JB838_1958-06-29_01-00020.txt',\n",
      "     'KB_JB838_1958-08-10_01-00015.txt',\n",
      "     'KB_JB838_1958-08-24_01-00018.txt',\n",
      "     'KB_JB838_1958-09-07_01-00020.txt',\n",
      "     'KB_JB838_1958-10-19_01-00020.txt',\n",
      "     'KB_JB838_1958-11-07_01-00016.txt',\n",
      "     'KB_JB838_1958-12-03_01-00017.txt',\n",
      "     'KB_JB838_1958-12-04_01-00019.txt',\n",
      "     'KB_JB838_1959-02-05_01-00018.txt',\n",
      "     'KB_JB838_1959-02-24_01-00017.txt',\n",
      "     'KB_JB838_1959-03-06_01-00019.txt',\n",
      "     'KB_JB838_1959-04-17_01-00021.txt',\n",
      "     'KB_JB838_1959-05-29_01-00017.txt',\n",
      "     'KB_JB838_1959-06-03_01-00016.txt',\n",
      "     'KB_JB838_1959-06-05_01-00019.txt',\n",
      "     'KB_JB838_1959-06-05_01-00021.txt',\n",
      "     'KB_JB838_1959-06-06_01-00017.txt',\n",
      "     'KB_JB838_1959-06-14_01-00021.txt',\n",
      "     'KB_JB838_1959-07-23_01-00018.txt',\n",
      "     'KB_JB838_1959-08-30_01-00017.txt',\n",
      "     'KB_JB838_1959-09-12_01-00019.txt',\n",
      "     'KB_JB838_1959-09-13_01-00020.txt',\n",
      "     'KB_JB838_1959-09-22_01-00018.txt',\n",
      "     'KB_JB838_1959-10-09_01-00017.txt',\n",
      "     'KB_JB838_1959-10-10_01-00020.txt',\n",
      "     'KB_JB838_1959-10-21_01-00021.txt',\n",
      "     'KB_JB838_1959-11-19_01-00019.txt'],\n",
      " 1: ['KB_JB838_1950-01-10_01-00006.txt',\n",
      "     'KB_JB838_1950-01-15_01-00010.txt',\n",
      "     'KB_JB838_1950-02-13_01-00005.txt',\n",
      "     'KB_JB838_1950-02-13_01-00008.txt',\n",
      "     'KB_JB838_1950-02-15_01-00014.txt',\n",
      "     'KB_JB838_1950-02-17_01-00009.txt',\n",
      "     'KB_JB838_1950-02-18_01-00009.txt',\n",
      "     'KB_JB838_1950-02-25_01-00006.txt',\n",
      "     'KB_JB838_1950-03-05_01-00020.txt',\n",
      "     'KB_JB838_1950-03-25_01-00009.txt',\n",
      "     'KB_JB838_1950-04-26_01-00007.txt',\n",
      "     'KB_JB838_1950-05-03_01-00006.txt',\n",
      "     'KB_JB838_1950-06-04_01-00011.txt',\n",
      "     'KB_JB838_1950-06-10_01-00010.txt',\n",
      "     'KB_JB838_1950-06-17_01-00006.txt',\n",
      "     'KB_JB838_1950-07-24_01-00006.txt',\n",
      "     'KB_JB838_1950-07-27_01-00007.txt',\n",
      "     'KB_JB838_1950-08-28_01-00005.txt',\n",
      "     'KB_JB838_1950-09-04_01-00005.txt',\n",
      "     'KB_JB838_1950-09-04_01-00006.txt',\n",
      "     'KB_JB838_1950-09-17_01-00011.txt',\n",
      "     'KB_JB838_1950-10-09_01-00005.txt',\n",
      "     'KB_JB838_1950-10-16_01-00004.txt',\n",
      "     'KB_JB838_1950-10-17_01-00006.txt',\n",
      "     'KB_JB838_1950-11-06_01-00006.txt',\n",
      "     'KB_JB838_1950-12-17_01-00024.txt',\n",
      "     'KB_JB838_1950-12-19_01-00014.txt',\n",
      "     'KB_JB838_1951-02-16_01-00010.txt',\n",
      "     'KB_JB838_1951-03-31_01-00018.txt',\n",
      "     'KB_JB838_1951-04-29_01-00009.txt',\n",
      "     'KB_JB838_1951-05-26_01-00014.txt',\n",
      "     'KB_JB838_1951-06-17_01-00012.txt',\n",
      "     'KB_JB838_1951-07-07_01-00008.txt',\n",
      "     'KB_JB838_1951-07-22_01-00004.txt',\n",
      "     'KB_JB838_1951-08-09_01-00006.txt',\n",
      "     'KB_JB838_1951-08-27_01-00004.txt',\n",
      "     'KB_JB838_1951-09-03_01-00006.txt',\n",
      "     'KB_JB838_1951-10-23_01-00008.txt',\n",
      "     'KB_JB838_1951-10-29_01-00004.txt',\n",
      "     'KB_JB838_1951-11-05_01-00006.txt',\n",
      "     'KB_JB838_1951-11-19_01-00007.txt',\n",
      "     'KB_JB838_1951-11-25_01-00011.txt',\n",
      "     'KB_JB838_1952-01-04_01-00008.txt',\n",
      "     'KB_JB838_1952-01-12_01-00008.txt',\n",
      "     'KB_JB838_1952-02-04_01-00005.txt',\n",
      "     'KB_JB838_1952-02-14_01-00006.txt',\n",
      "     'KB_JB838_1952-03-01_01-00009.txt',\n",
      "     'KB_JB838_1952-03-14_01-00007.txt',\n",
      "     'KB_JB838_1952-03-16_01-00013.txt',\n",
      "     'KB_JB838_1952-03-23_01-00011.txt',\n",
      "     'KB_JB838_1952-04-02_01-00006.txt',\n",
      "     'KB_JB838_1952-05-23_01-00005.txt',\n",
      "     'KB_JB838_1952-05-29_01-00006.txt',\n",
      "     'KB_JB838_1952-06-30_01-00006.txt',\n",
      "     'KB_JB838_1952-08-25_01-00004.txt',\n",
      "     'KB_JB838_1952-09-14_01-00013.txt',\n",
      "     'KB_JB838_1952-09-28_01-00012.txt',\n",
      "     'KB_JB838_1952-10-05_01-00012.txt',\n",
      "     'KB_JB838_1952-11-03_01-00004.txt',\n",
      "     'KB_JB838_1952-11-05_01-00016.txt',\n",
      "     'KB_JB838_1952-11-15_01-00009.txt',\n",
      "     'KB_JB838_1952-11-16_01-00014.txt',\n",
      "     'KB_JB838_1952-11-26_01-00009.txt',\n",
      "     'KB_JB838_1952-12-17_01-00008.txt',\n",
      "     'KB_JB838_1952-12-24_01-00007.txt',\n",
      "     'KB_JB838_1952-12-24_01-00008.txt',\n",
      "     'KB_JB838_1953-01-03_01-00011.txt',\n",
      "     'KB_JB838_1953-01-18_01-00023.txt',\n",
      "     'KB_JB838_1953-02-17_01-00009.txt',\n",
      "     'KB_JB838_1953-04-04_01-00008.txt',\n",
      "     'KB_JB838_1953-04-05_01-00009.txt',\n",
      "     'KB_JB838_1953-05-03_01-00013.txt',\n",
      "     'KB_JB838_1953-05-03_01-00020.txt',\n",
      "     'KB_JB838_1953-05-23_01-00010.txt',\n",
      "     'KB_JB838_1953-06-08_01-00007.txt',\n",
      "     'KB_JB838_1953-06-18_01-00007.txt',\n",
      "     'KB_JB838_1953-06-18_01-00008.txt',\n",
      "     'KB_JB838_1953-06-24_01-00006.txt',\n",
      "     'KB_JB838_1953-07-17_01-00008.txt',\n",
      "     'KB_JB838_1953-08-06_01-00008.txt',\n",
      "     'KB_JB838_1953-08-10_01-00006.txt',\n",
      "     'KB_JB838_1953-08-14_01-00009.txt',\n",
      "     'KB_JB838_1953-08-15_01-00011.txt',\n",
      "     'KB_JB838_1953-10-07_01-00008.txt',\n",
      "     'KB_JB838_1953-10-18_01-00012.txt',\n",
      "     'KB_JB838_1953-10-19_01-00010.txt',\n",
      "     'KB_JB838_1953-10-25_01-00024.txt',\n",
      "     'KB_JB838_1953-11-01_01-00013.txt',\n",
      "     'KB_JB838_1953-11-11_01-00008.txt',\n",
      "     'KB_JB838_1953-12-11_01-00008.txt',\n",
      "     'KB_JB838_1953-12-16_01-00008.txt',\n",
      "     'KB_JB838_1954-01-04_01-00005.txt',\n",
      "     'KB_JB838_1954-02-22_01-00007.txt',\n",
      "     'KB_JB838_1954-02-24_01-00007.txt',\n",
      "     'KB_JB838_1954-03-06_01-00009.txt',\n",
      "     'KB_JB838_1954-03-10_01-00009.txt',\n",
      "     'KB_JB838_1954-03-28_01-00010.txt',\n",
      "     'KB_JB838_1954-04-17_01-00010.txt',\n",
      "     'KB_JB838_1954-04-24_01-00012.txt',\n",
      "     'KB_JB838_1954-04-25_01-00011.txt',\n",
      "     'KB_JB838_1954-05-01_01-00012.txt',\n",
      "     'KB_JB838_1954-05-13_01-00008.txt',\n",
      "     'KB_JB838_1954-05-13_01-00010.txt',\n",
      "     'KB_JB838_1954-05-26_01-00007.txt',\n",
      "     'KB_JB838_1954-05-29_01-00013.txt',\n",
      "     'KB_JB838_1954-06-03_01-00008.txt',\n",
      "     'KB_JB838_1954-06-14_01-00008.txt',\n",
      "     'KB_JB838_1954-07-21_01-00009.txt',\n",
      "     'KB_JB838_1954-08-17_01-00006.txt',\n",
      "     'KB_JB838_1954-08-29_01-00009.txt',\n",
      "     'KB_JB838_1954-10-10_01-00013.txt',\n",
      "     'KB_JB838_1954-10-13_01-00020.txt',\n",
      "     'KB_JB838_1954-10-18_01-00011.txt',\n",
      "     'KB_JB838_1954-11-08_01-00009.txt',\n",
      "     'KB_JB838_1954-11-24_01-00009.txt',\n",
      "     'KB_JB838_1955-01-06_01-00007.txt',\n",
      "     'KB_JB838_1955-02-03_01-00008.txt',\n",
      "     'KB_JB838_1955-02-22_01-00009.txt',\n",
      "     'KB_JB838_1955-03-06_01-00011.txt',\n",
      "     'KB_JB838_1955-03-21_01-00007.txt',\n",
      "     'KB_JB838_1955-04-03_01-00007.txt',\n",
      "     'KB_JB838_1955-04-07_01-00014.txt',\n",
      "     'KB_JB838_1955-04-13_01-00008.txt',\n",
      "     'KB_JB838_1955-05-27_01-00010.txt',\n",
      "     'KB_JB838_1955-06-11_01-00024.txt',\n",
      "     'KB_JB838_1955-07-16_01-00010.txt',\n",
      "     'KB_JB838_1955-07-23_01-00007.txt',\n",
      "     'KB_JB838_1955-08-07_01-00011.txt',\n",
      "     'KB_JB838_1955-08-27_01-00008.txt',\n",
      "     'KB_JB838_1955-09-04_01-00011.txt',\n",
      "     'KB_JB838_1955-09-08_01-00010.txt',\n",
      "     'KB_JB838_1955-09-26_01-00010.txt',\n",
      "     'KB_JB838_1955-10-03_01-00006.txt',\n",
      "     'KB_JB838_1955-10-11_01-00008.txt',\n",
      "     'KB_JB838_1955-11-05_01-00024.txt',\n",
      "     'KB_JB838_1955-11-21_01-00013.txt',\n",
      "     'KB_JB838_1955-11-25_01-00011.txt',\n",
      "     'KB_JB838_1955-11-30_01-00009.txt',\n",
      "     'KB_JB838_1955-12-10_01-00024.txt',\n",
      "     'KB_JB838_1955-12-21_01-00011.txt',\n",
      "     'KB_JB838_1956-01-10_01-00009.txt',\n",
      "     'KB_JB838_1956-01-22_01-00013.txt',\n",
      "     'KB_JB838_1956-01-31_01-00007.txt',\n",
      "     'KB_JB838_1956-02-01_01-00009.txt',\n",
      "     'KB_JB838_1956-02-21_01-00014.txt',\n",
      "     'KB_JB838_1956-02-22_01-00010.txt',\n",
      "     'KB_JB838_1956-02-25_01-00018.txt',\n",
      "     'KB_JB838_1956-03-20_01-00008.txt',\n",
      "     'KB_JB838_1956-03-20_01-00009.txt',\n",
      "     'KB_JB838_1956-03-27_01-00008.txt',\n",
      "     'KB_JB838_1956-04-05_01-00011.txt',\n",
      "     'KB_JB838_1956-05-06_01-00012.txt',\n",
      "     'KB_JB838_1956-05-07_01-00009.txt',\n",
      "     'KB_JB838_1956-05-08_01-00007.txt',\n",
      "     'KB_JB838_1956-06-02_01-00008.txt',\n",
      "     'KB_JB838_1956-06-04_01-00006.txt',\n",
      "     'KB_JB838_1956-06-29_01-00012.txt',\n",
      "     'KB_JB838_1956-07-12_01-00010.txt',\n",
      "     'KB_JB838_1956-08-10_01-00010.txt',\n",
      "     'KB_JB838_1956-08-19_01-00012.txt',\n",
      "     'KB_JB838_1956-08-23_01-00012.txt',\n",
      "     'KB_JB838_1956-08-24_01-00008.txt',\n",
      "     'KB_JB838_1956-08-24_01-00010.txt',\n",
      "     'KB_JB838_1956-08-28_01-00009.txt',\n",
      "     'KB_JB838_1956-09-05_01-00009.txt',\n",
      "     'KB_JB838_1956-09-20_01-00010.txt',\n",
      "     'KB_JB838_1956-10-03_01-00010.txt',\n",
      "     'KB_JB838_1956-10-07_01-00011.txt',\n",
      "     'KB_JB838_1956-10-09_01-00012.txt',\n",
      "     'KB_JB838_1956-10-10_01-00009.txt',\n",
      "     'KB_JB838_1956-10-21_01-00012.txt',\n",
      "     'KB_JB838_1956-10-28_01-00011.txt',\n",
      "     'KB_JB838_1956-11-15_01-00008.txt',\n",
      "     'KB_JB838_1956-11-22_01-00014.txt',\n",
      "     'KB_JB838_1956-12-07_01-00013.txt',\n",
      "     'KB_JB838_1956-12-11_01-00007.txt',\n",
      "     'KB_JB838_1956-12-27_01-00010.txt',\n",
      "     'KB_JB838_1957-01-04_01-00012.txt',\n",
      "     'KB_JB838_1957-01-21_01-00009.txt',\n",
      "     'KB_JB838_1957-01-27_01-00011.txt',\n",
      "     'KB_JB838_1957-02-11_01-00009.txt',\n",
      "     'KB_JB838_1957-02-19_01-00016.txt',\n",
      "     'KB_JB838_1957-03-02_01-00009.txt',\n",
      "     'KB_JB838_1957-03-22_01-00009.txt',\n",
      "     'KB_JB838_1957-04-03_01-00010.txt',\n",
      "     'KB_JB838_1957-04-10_01-00011.txt',\n",
      "     'KB_JB838_1957-04-11_01-00011.txt',\n",
      "     'KB_JB838_1957-04-14_01-00007.txt',\n",
      "     'KB_JB838_1957-04-16_01-00010.txt',\n",
      "     'KB_JB838_1957-04-22_01-00008.txt',\n",
      "     'KB_JB838_1957-04-24_01-00009.txt',\n",
      "     'KB_JB838_1957-04-26_01-00008.txt',\n",
      "     'KB_JB838_1957-05-08_01-00009.txt',\n",
      "     'KB_JB838_1957-05-25_01-00007.txt',\n",
      "     'KB_JB838_1957-08-05_01-00008.txt',\n",
      "     'KB_JB838_1957-08-22_01-00007.txt',\n",
      "     'KB_JB838_1957-09-05_01-00008.txt',\n",
      "     'KB_JB838_1957-09-19_01-00009.txt',\n",
      "     'KB_JB838_1957-09-29_01-00014.txt',\n",
      "     'KB_JB838_1957-10-06_01-00008.txt',\n",
      "     'KB_JB838_1957-10-07_01-00006.txt',\n",
      "     'KB_JB838_1957-10-15_01-00018.txt',\n",
      "     'KB_JB838_1957-11-12_01-00009.txt',\n",
      "     'KB_JB838_1957-11-14_01-00011.txt',\n",
      "     'KB_JB838_1957-11-25_01-00008.txt',\n",
      "     'KB_JB838_1957-11-26_01-00007.txt',\n",
      "     'KB_JB838_1957-12-05_01-00009.txt',\n",
      "     'KB_JB838_1957-12-15_01-00011.txt',\n",
      "     'KB_JB838_1957-12-29_01-00010.txt',\n",
      "     'KB_JB838_1958-01-19_01-00009.txt',\n",
      "     'KB_JB838_1958-01-24_01-00014.txt',\n",
      "     'KB_JB838_1958-02-27_01-00011.txt',\n",
      "     'KB_JB838_1958-03-17_01-00006.txt',\n",
      "     'KB_JB838_1958-03-29_01-00011.txt',\n",
      "     'KB_JB838_1958-04-06_01-00011.txt',\n",
      "     'KB_JB838_1958-04-12_01-00008.txt',\n",
      "     'KB_JB838_1958-04-20_01-00012.txt',\n",
      "     'KB_JB838_1958-05-10_01-00011.txt',\n",
      "     'KB_JB838_1958-05-24_01-00008.txt',\n",
      "     'KB_JB838_1958-06-07_01-00024.txt',\n",
      "     'KB_JB838_1958-06-25_01-00012.txt',\n",
      "     'KB_JB838_1958-06-27_01-00010.txt',\n",
      "     'KB_JB838_1958-06-28_01-00009.txt',\n",
      "     'KB_JB838_1958-07-14_01-00007.txt',\n",
      "     'KB_JB838_1958-07-27_01-00009.txt',\n",
      "     'KB_JB838_1958-08-04_01-00008.txt',\n",
      "     'KB_JB838_1958-08-24_01-00009.txt',\n",
      "     'KB_JB838_1958-09-06_01-00017.txt',\n",
      "     'KB_JB838_1958-10-10_01-00010.txt',\n",
      "     'KB_JB838_1958-11-19_01-00010.txt',\n",
      "     'KB_JB838_1958-11-20_01-00012.txt',\n",
      "     'KB_JB838_1958-11-23_01-00014.txt',\n",
      "     'KB_JB838_1958-11-25_01-00011.txt',\n",
      "     'KB_JB838_1958-11-30_01-00007.txt',\n",
      "     'KB_JB838_1958-12-03_01-00011.txt',\n",
      "     'KB_JB838_1958-12-13_01-00019.txt',\n",
      "     'KB_JB838_1958-12-14_01-00006.txt',\n",
      "     'KB_JB838_1958-12-24_01-00010.txt',\n",
      "     'KB_JB838_1959-01-07_01-00006.txt',\n",
      "     'KB_JB838_1959-01-14_01-00009.txt',\n",
      "     'KB_JB838_1959-01-29_01-00010.txt',\n",
      "     'KB_JB838_1959-02-01_01-00013.txt',\n",
      "     'KB_JB838_1959-02-13_01-00009.txt',\n",
      "     'KB_JB838_1959-02-18_01-00010.txt',\n",
      "     'KB_JB838_1959-02-19_01-00014.txt',\n",
      "     'KB_JB838_1959-03-03_01-00014.txt',\n",
      "     'KB_JB838_1959-03-07_01-00010.txt',\n",
      "     'KB_JB838_1959-03-15_01-00007.txt',\n",
      "     'KB_JB838_1959-03-26_01-00012.txt',\n",
      "     'KB_JB838_1959-03-28_01-00009.txt',\n",
      "     'KB_JB838_1959-04-23_01-00014.txt',\n",
      "     'KB_JB838_1959-05-10_01-00013.txt',\n",
      "     'KB_JB838_1959-05-16_01-00010.txt',\n",
      "     'KB_JB838_1959-06-04_01-00010.txt',\n",
      "     'KB_JB838_1959-07-01_01-00009.txt',\n",
      "     'KB_JB838_1959-07-21_01-00010.txt',\n",
      "     'KB_JB838_1959-07-21_01-00011.txt',\n",
      "     'KB_JB838_1959-07-26_01-00013.txt',\n",
      "     'KB_JB838_1959-10-18_01-00015.txt',\n",
      "     'KB_JB838_1959-10-22_01-00014.txt',\n",
      "     'KB_JB838_1959-10-29_01-00012.txt',\n",
      "     'KB_JB838_1959-11-04_01-00010.txt',\n",
      "     'KB_JB838_1959-11-07_01-00010.txt',\n",
      "     'KB_JB838_1959-11-11_01-00011.txt',\n",
      "     'KB_JB838_1959-12-06_01-00008.txt',\n",
      "     'KB_JB838_1959-12-09_01-00011.txt',\n",
      "     'KB_JB838_1959-12-13_01-00008.txt',\n",
      "     'KB_JB838_1959-12-29_01-00012.txt'],\n",
      " 2: ['KB_JB838_1950-01-07_01-00013.txt',\n",
      "     'KB_JB838_1950-02-18_01-00014.txt',\n",
      "     'KB_JB838_1950-02-28_01-00012.txt',\n",
      "     'KB_JB838_1950-03-03_01-00013.txt',\n",
      "     'KB_JB838_1950-03-15_01-00012.txt',\n",
      "     'KB_JB838_1950-04-25_01-00011.txt',\n",
      "     'KB_JB838_1950-05-24_01-00014.txt',\n",
      "     'KB_JB838_1950-06-14_01-00014.txt',\n",
      "     'KB_JB838_1950-07-02_01-00018.txt',\n",
      "     'KB_JB838_1950-11-24_01-00015.txt',\n",
      "     'KB_JB838_1950-11-28_01-00012.txt',\n",
      "     'KB_JB838_1950-11-29_01-00013.txt',\n",
      "     'KB_JB838_1950-12-20_01-00013.txt',\n",
      "     'KB_JB838_1950-12-24_01-00017.txt',\n",
      "     'KB_JB838_1951-01-21_01-00018.txt',\n",
      "     'KB_JB838_1951-03-06_01-00014.txt',\n",
      "     'KB_JB838_1951-08-19_01-00015.txt',\n",
      "     'KB_JB838_1951-08-24_01-00013.txt',\n",
      "     'KB_JB838_1951-09-04_01-00012.txt',\n",
      "     'KB_JB838_1951-09-08_01-00019.txt',\n",
      "     'KB_JB838_1951-09-09_01-00020.txt',\n",
      "     'KB_JB838_1951-09-13_01-00014.txt',\n",
      "     'KB_JB838_1951-11-22_01-00015.txt',\n",
      "     'KB_JB838_1951-12-16_01-00024.txt',\n",
      "     'KB_JB838_1951-12-20_01-00015.txt',\n",
      "     'KB_JB838_1952-01-22_01-00013.txt',\n",
      "     'KB_JB838_1952-01-27_01-00023.txt',\n",
      "     'KB_JB838_1952-02-26_01-00012.txt',\n",
      "     'KB_JB838_1952-03-02_01-00022.txt',\n",
      "     'KB_JB838_1952-04-11_01-00013.txt',\n",
      "     'KB_JB838_1952-07-30_01-00014.txt',\n",
      "     'KB_JB838_1952-09-18_01-00015.txt',\n",
      "     'KB_JB838_1952-11-12_01-00014.txt',\n",
      "     'KB_JB838_1952-11-22_01-00018.txt',\n",
      "     'KB_JB838_1953-01-23_01-00014.txt',\n",
      "     'KB_JB838_1953-04-09_01-00015.txt',\n",
      "     'KB_JB838_1953-04-15_01-00016.txt',\n",
      "     'KB_JB838_1953-05-20_01-00015.txt',\n",
      "     'KB_JB838_1953-07-19_01-00017.txt',\n",
      "     'KB_JB838_1953-09-18_01-00015.txt',\n",
      "     'KB_JB838_1953-09-29_01-00013.txt',\n",
      "     'KB_JB838_1953-10-15_01-00018.txt',\n",
      "     'KB_JB838_1953-12-10_01-00016.txt',\n",
      "     'KB_JB838_1954-01-27_01-00016.txt',\n",
      "     'KB_JB838_1954-03-11_01-00018.txt',\n",
      "     'KB_JB838_1954-03-25_01-00016.txt',\n",
      "     'KB_JB838_1954-04-18_01-00022.txt',\n",
      "     'KB_JB838_1954-04-25_01-00021.txt',\n",
      "     'KB_JB838_1954-06-05_01-00017.txt',\n",
      "     'KB_JB838_1954-06-18_01-00016.txt',\n",
      "     'KB_JB838_1954-06-20_01-00022.txt',\n",
      "     'KB_JB838_1954-07-08_01-00015.txt',\n",
      "     'KB_JB838_1954-07-24_01-00015.txt',\n",
      "     'KB_JB838_1954-11-25_01-00020.txt',\n",
      "     'KB_JB838_1954-12-30_01-00016.txt',\n",
      "     'KB_JB838_1955-02-17_01-00020.txt',\n",
      "     'KB_JB838_1955-03-12_01-00020.txt',\n",
      "     'KB_JB838_1955-04-03_01-00022.txt',\n",
      "     'KB_JB838_1955-05-08_01-00021.txt',\n",
      "     'KB_JB838_1955-06-23_01-00019.txt',\n",
      "     'KB_JB838_1955-06-26_01-00022.txt',\n",
      "     'KB_JB838_1955-07-12_01-00015.txt',\n",
      "     'KB_JB838_1955-07-26_01-00013.txt',\n",
      "     'KB_JB838_1955-08-06_01-00016.txt',\n",
      "     'KB_JB838_1955-10-27_01-00024.txt',\n",
      "     'KB_JB838_1956-12-06_01-00022.txt',\n",
      "     'KB_JB838_1956-12-11_01-00016.txt',\n",
      "     'KB_JB838_1956-12-25_01-00017.txt',\n",
      "     'KB_JB838_1957-01-01_01-00014.txt',\n",
      "     'KB_JB838_1957-01-10_01-00020.txt',\n",
      "     'KB_JB838_1957-05-14_01-00018.txt',\n",
      "     'KB_JB838_1957-11-05_01-00015.txt',\n",
      "     'KB_JB838_1957-12-08_01-00024.txt',\n",
      "     'KB_JB838_1958-01-25_01-00019.txt',\n",
      "     'KB_JB838_1958-02-18_01-00015.txt',\n",
      "     'KB_JB838_1958-03-20_01-00023.txt',\n",
      "     'KB_JB838_1958-03-30_01-00023.txt',\n",
      "     'KB_JB838_1958-04-12_01-00023.txt',\n",
      "     'KB_JB838_1958-04-27_01-00023.txt',\n",
      "     'KB_JB838_1958-08-17_01-00017.txt',\n",
      "     'KB_JB838_1958-09-04_01-00021.txt',\n",
      "     'KB_JB838_1958-09-30_01-00015.txt',\n",
      "     'KB_JB838_1958-11-04_01-00015.txt',\n",
      "     'KB_JB838_1958-11-26_01-00019.txt',\n",
      "     'KB_JB838_1959-01-25_01-00024.txt',\n",
      "     'KB_JB838_1959-02-01_01-00023.txt',\n",
      "     'KB_JB838_1959-04-22_01-00020.txt',\n",
      "     'KB_JB838_1959-05-03_01-00024.txt',\n",
      "     'KB_JB838_1959-06-03_01-00019.txt',\n",
      "     'KB_JB838_1959-07-04_01-00021.txt',\n",
      "     'KB_JB838_1959-07-19_01-00019.txt',\n",
      "     'KB_JB838_1959-11-04_01-00019.txt',\n",
      "     'KB_JB838_1959-11-04_01-00020.txt',\n",
      "     'KB_JB838_1959-12-19_01-00023.txt'],\n",
      " 3: ['KB_JB838_1950-01-06_01-00002.txt',\n",
      "     'KB_JB838_1950-03-01_01-00005.txt',\n",
      "     'KB_JB838_1950-03-11_01-00005.txt',\n",
      "     'KB_JB838_1950-03-19_01-00001.txt',\n",
      "     'KB_JB838_1950-03-27_01-00002.txt',\n",
      "     'KB_JB838_1950-03-29_01-00002.txt',\n",
      "     'KB_JB838_1950-03-31_01-00006.txt',\n",
      "     'KB_JB838_1950-04-19_01-00002.txt',\n",
      "     'KB_JB838_1950-05-07_01-00002.txt',\n",
      "     'KB_JB838_1950-05-16_01-00003.txt',\n",
      "     'KB_JB838_1950-05-29_01-00002.txt',\n",
      "     'KB_JB838_1950-06-11_01-00001.txt',\n",
      "     'KB_JB838_1950-06-22_01-00004.txt',\n",
      "     'KB_JB838_1950-06-29_01-00002.txt',\n",
      "     'KB_JB838_1950-07-02_01-00002.txt',\n",
      "     'KB_JB838_1950-07-05_01-00005.txt',\n",
      "     'KB_JB838_1950-08-01_01-00003.txt',\n",
      "     'KB_JB838_1950-08-09_01-00006.txt',\n",
      "     'KB_JB838_1950-08-23_01-00003.txt',\n",
      "     'KB_JB838_1950-10-01_01-00004.txt',\n",
      "     'KB_JB838_1950-10-28_01-00005.txt',\n",
      "     'KB_JB838_1950-10-29_01-00006.txt',\n",
      "     'KB_JB838_1950-10-30_01-00003.txt',\n",
      "     'KB_JB838_1950-11-14_01-00004.txt',\n",
      "     'KB_JB838_1950-11-21_01-00004.txt',\n",
      "     'KB_JB838_1950-11-28_01-00003.txt',\n",
      "     'KB_JB838_1950-12-02_01-00004.txt',\n",
      "     'KB_JB838_1950-12-06_01-00001.txt',\n",
      "     'KB_JB838_1950-12-16_01-00003.txt',\n",
      "     'KB_JB838_1950-12-29_01-00006.txt',\n",
      "     'KB_JB838_1951-01-06_01-00004.txt',\n",
      "     'KB_JB838_1951-01-07_01-00002.txt',\n",
      "     'KB_JB838_1951-01-11_01-00004.txt',\n",
      "     'KB_JB838_1951-01-17_01-00005.txt',\n",
      "     'KB_JB838_1951-01-26_01-00005.txt',\n",
      "     'KB_JB838_1951-01-28_01-00005.txt',\n",
      "     'KB_JB838_1951-02-06_01-00005.txt',\n",
      "     'KB_JB838_1951-02-16_01-00006.txt',\n",
      "     'KB_JB838_1951-03-06_01-00003.txt',\n",
      "     'KB_JB838_1951-03-16_01-00018.txt',\n",
      "     'KB_JB838_1951-03-17_01-00004.txt',\n",
      "     'KB_JB838_1951-03-27_01-00002.txt',\n",
      "     'KB_JB838_1951-03-28_01-00007.txt',\n",
      "     'KB_JB838_1951-03-31_01-00002.txt',\n",
      "     'KB_JB838_1951-04-09_01-00003.txt',\n",
      "     'KB_JB838_1951-04-13_01-00016.txt',\n",
      "     'KB_JB838_1951-04-21_01-00007.txt',\n",
      "     'KB_JB838_1951-04-29_01-00006.txt',\n",
      "     'KB_JB838_1951-05-01_01-00002.txt',\n",
      "     'KB_JB838_1951-05-03_01-00001.txt',\n",
      "     'KB_JB838_1951-05-05_01-00003.txt',\n",
      "     'KB_JB838_1951-05-10_01-00004.txt',\n",
      "     'KB_JB838_1951-05-16_01-00005.txt',\n",
      "     'KB_JB838_1951-05-25_01-00020.txt',\n",
      "     'KB_JB838_1951-06-05_01-00003.txt',\n",
      "     'KB_JB838_1951-06-08_01-00001.txt',\n",
      "     'KB_JB838_1951-06-10_01-00006.txt',\n",
      "     'KB_JB838_1951-06-13_01-00002.txt',\n",
      "     'KB_JB838_1951-06-19_01-00002.txt',\n",
      "     'KB_JB838_1951-06-19_01-00005.txt',\n",
      "     'KB_JB838_1951-07-20_01-00002.txt',\n",
      "     'KB_JB838_1951-08-14_01-00006.txt',\n",
      "     'KB_JB838_1951-09-04_01-00002.txt',\n",
      "     'KB_JB838_1951-09-30_01-00008.txt',\n",
      "     'KB_JB838_1951-10-01_01-00001.txt',\n",
      "     'KB_JB838_1951-10-25_01-00004.txt',\n",
      "     'KB_JB838_1951-11-03_01-00020.txt',\n",
      "     'KB_JB838_1951-11-20_01-00001.txt',\n",
      "     'KB_JB838_1951-11-28_01-00003.txt',\n",
      "     'KB_JB838_1951-12-09_01-00005.txt',\n",
      "     'KB_JB838_1951-12-27_01-00002.txt',\n",
      "     'KB_JB838_1951-12-30_01-00003.txt',\n",
      "     'KB_JB838_1952-01-01_01-00003.txt',\n",
      "     'KB_JB838_1952-01-13_01-00002.txt',\n",
      "     'KB_JB838_1952-01-23_01-00007.txt',\n",
      "     'KB_JB838_1952-01-30_01-00005.txt',\n",
      "     'KB_JB838_1952-01-31_01-00007.txt',\n",
      "     'KB_JB838_1952-02-04_01-00001.txt',\n",
      "     'KB_JB838_1952-02-15_01-00002.txt',\n",
      "     'KB_JB838_1952-02-22_01-00004.txt',\n",
      "     'KB_JB838_1952-03-03_01-00002.txt',\n",
      "     'KB_JB838_1952-03-10_01-00001.txt',\n",
      "     'KB_JB838_1952-03-16_01-00003.txt',\n",
      "     'KB_JB838_1952-03-20_01-00001.txt',\n",
      "     'KB_JB838_1952-04-18_01-00004.txt',\n",
      "     'KB_JB838_1952-04-21_01-00001.txt',\n",
      "     'KB_JB838_1952-04-25_01-00002.txt',\n",
      "     'KB_JB838_1952-05-04_01-00001.txt',\n",
      "     'KB_JB838_1952-05-07_01-00004.txt',\n",
      "     'KB_JB838_1952-05-10_01-00007.txt',\n",
      "     'KB_JB838_1952-05-25_01-00003.txt',\n",
      "     'KB_JB838_1952-06-07_01-00003.txt',\n",
      "     'KB_JB838_1952-06-09_01-00003.txt',\n",
      "     'KB_JB838_1952-06-12_01-00005.txt',\n",
      "     'KB_JB838_1952-06-19_01-00003.txt',\n",
      "     'KB_JB838_1952-06-25_01-00002.txt',\n",
      "     'KB_JB838_1952-06-27_01-00003.txt',\n",
      "     'KB_JB838_1952-07-03_01-00005.txt',\n",
      "     'KB_JB838_1952-07-29_01-00003.txt',\n",
      "     'KB_JB838_1952-08-09_01-00005.txt',\n",
      "     'KB_JB838_1952-08-09_01-00006.txt',\n",
      "     'KB_JB838_1952-09-28_01-00007.txt',\n",
      "     'KB_JB838_1952-10-01_01-00004.txt',\n",
      "     'KB_JB838_1952-10-10_01-00005.txt',\n",
      "     'KB_JB838_1952-10-11_01-00003.txt',\n",
      "     'KB_JB838_1952-10-17_01-00003.txt',\n",
      "     'KB_JB838_1952-10-19_01-00009.txt',\n",
      "     'KB_JB838_1952-11-01_01-00004.txt',\n",
      "     'KB_JB838_1952-11-22_01-00001.txt',\n",
      "     'KB_JB838_1952-11-30_01-00006.txt',\n",
      "     'KB_JB838_1952-12-18_01-00005.txt',\n",
      "     'KB_JB838_1952-12-19_01-00001.txt',\n",
      "     'KB_JB838_1953-01-16_01-00002.txt',\n",
      "     'KB_JB838_1953-02-02_01-00003.txt',\n",
      "     'KB_JB838_1953-02-12_01-00001.txt',\n",
      "     'KB_JB838_1953-02-14_01-00007.txt',\n",
      "     'KB_JB838_1953-02-24_01-00002.txt',\n",
      "     'KB_JB838_1953-02-27_01-00001.txt',\n",
      "     'KB_JB838_1953-03-08_01-00001.txt',\n",
      "     'KB_JB838_1953-03-30_01-00001.txt',\n",
      "     'KB_JB838_1953-03-30_01-00002.txt',\n",
      "     'KB_JB838_1953-04-12_01-00007.txt',\n",
      "     'KB_JB838_1953-04-23_01-00005.txt',\n",
      "     'KB_JB838_1953-04-25_01-00001.txt',\n",
      "     'KB_JB838_1953-04-30_01-00004.txt',\n",
      "     'KB_JB838_1953-05-30_01-00005.txt',\n",
      "     'KB_JB838_1953-06-03_01-00002.txt',\n",
      "     'KB_JB838_1953-06-09_01-00002.txt',\n",
      "     'KB_JB838_1953-06-09_01-00006.txt',\n",
      "     'KB_JB838_1953-06-18_01-00001.txt',\n",
      "     'KB_JB838_1953-06-29_01-00002.txt',\n",
      "     'KB_JB838_1953-07-09_01-00002.txt',\n",
      "     'KB_JB838_1953-07-26_01-00001.txt',\n",
      "     'KB_JB838_1953-08-29_01-00002.txt',\n",
      "     'KB_JB838_1953-09-07_01-00003.txt',\n",
      "     'KB_JB838_1953-09-09_01-00005.txt',\n",
      "     'KB_JB838_1953-09-13_01-00002.txt',\n",
      "     'KB_JB838_1953-09-20_01-00002.txt',\n",
      "     'KB_JB838_1953-10-07_01-00001.txt',\n",
      "     'KB_JB838_1953-10-10_01-00006.txt',\n",
      "     'KB_JB838_1953-10-30_01-00005.txt',\n",
      "     'KB_JB838_1953-11-03_01-00002.txt',\n",
      "     'KB_JB838_1953-11-06_01-00004.txt',\n",
      "     'KB_JB838_1953-11-08_01-00007.txt',\n",
      "     'KB_JB838_1953-11-13_01-00003.txt',\n",
      "     'KB_JB838_1953-11-14_01-00008.txt',\n",
      "     'KB_JB838_1953-11-18_01-00001.txt',\n",
      "     'KB_JB838_1953-11-28_01-00004.txt',\n",
      "     'KB_JB838_1953-12-03_01-00002.txt',\n",
      "     'KB_JB838_1953-12-03_01-00004.txt',\n",
      "     'KB_JB838_1953-12-12_01-00003.txt',\n",
      "     'KB_JB838_1953-12-12_01-00007.txt',\n",
      "     'KB_JB838_1953-12-25_01-00003.txt',\n",
      "     'KB_JB838_1954-01-03_01-00005.txt',\n",
      "     'KB_JB838_1954-01-11_01-00002.txt',\n",
      "     'KB_JB838_1954-01-20_01-00005.txt',\n",
      "     'KB_JB838_1954-02-09_01-00006.txt',\n",
      "     'KB_JB838_1954-02-12_01-00001.txt',\n",
      "     'KB_JB838_1954-02-18_01-00006.txt',\n",
      "     'KB_JB838_1954-02-20_01-00004.txt',\n",
      "     'KB_JB838_1954-02-25_01-00005.txt',\n",
      "     'KB_JB838_1954-02-28_01-00004.txt',\n",
      "     'KB_JB838_1954-03-17_01-00001.txt',\n",
      "     'KB_JB838_1954-03-25_01-00002.txt',\n",
      "     'KB_JB838_1954-04-01_01-00002.txt',\n",
      "     'KB_JB838_1954-04-14_01-00003.txt',\n",
      "     'KB_JB838_1954-04-16_01-00005.txt',\n",
      "     'KB_JB838_1954-04-28_01-00005.txt',\n",
      "     'KB_JB838_1954-05-17_01-00002.txt',\n",
      "     'KB_JB838_1954-06-03_01-00006.txt',\n",
      "     'KB_JB838_1954-06-10_01-00006.txt',\n",
      "     'KB_JB838_1954-06-19_01-00002.txt',\n",
      "     'KB_JB838_1954-06-20_01-00005.txt',\n",
      "     'KB_JB838_1954-06-22_01-00001.txt',\n",
      "     'KB_JB838_1954-07-03_01-00007.txt',\n",
      "     'KB_JB838_1954-07-10_01-00005.txt',\n",
      "     'KB_JB838_1954-09-02_01-00004.txt',\n",
      "     'KB_JB838_1954-09-11_01-00004.txt',\n",
      "     'KB_JB838_1954-09-19_01-00001.txt',\n",
      "     'KB_JB838_1954-09-19_01-00002.txt',\n",
      "     'KB_JB838_1954-10-06_01-00001.txt',\n",
      "     'KB_JB838_1954-10-09_01-00003.txt',\n",
      "     'KB_JB838_1954-10-22_01-00006.txt',\n",
      "     'KB_JB838_1954-10-27_01-00004.txt',\n",
      "     'KB_JB838_1954-11-13_01-00001.txt',\n",
      "     'KB_JB838_1954-11-20_01-00001.txt',\n",
      "     'KB_JB838_1954-11-21_01-00024.txt',\n",
      "     'KB_JB838_1955-01-01_01-00001.txt',\n",
      "     'KB_JB838_1955-01-17_01-00001.txt',\n",
      "     'KB_JB838_1955-01-23_01-00002.txt',\n",
      "     'KB_JB838_1955-01-25_01-00001.txt',\n",
      "     'KB_JB838_1955-01-25_01-00005.txt',\n",
      "     'KB_JB838_1955-01-31_01-00003.txt',\n",
      "     'KB_JB838_1955-03-15_01-00003.txt',\n",
      "     'KB_JB838_1955-03-16_01-00005.txt',\n",
      "     'KB_JB838_1955-03-20_01-00006.txt',\n",
      "     'KB_JB838_1955-03-29_01-00005.txt',\n",
      "     'KB_JB838_1955-03-30_01-00001.txt',\n",
      "     'KB_JB838_1955-04-07_01-00008.txt',\n",
      "     'KB_JB838_1955-04-08_01-00006.txt',\n",
      "     'KB_JB838_1955-04-15_01-00003.txt',\n",
      "     'KB_JB838_1955-05-09_01-00003.txt',\n",
      "     'KB_JB838_1955-05-12_01-00008.txt',\n",
      "     'KB_JB838_1955-05-17_01-00004.txt',\n",
      "     'KB_JB838_1955-05-22_01-00007.txt',\n",
      "     'KB_JB838_1955-06-23_01-00006.txt',\n",
      "     'KB_JB838_1955-06-23_01-00007.txt',\n",
      "     'KB_JB838_1955-06-28_01-00004.txt',\n",
      "     'KB_JB838_1955-06-30_01-00003.txt',\n",
      "     'KB_JB838_1955-07-05_01-00001.txt',\n",
      "     'KB_JB838_1955-07-15_01-00001.txt',\n",
      "     'KB_JB838_1955-07-20_01-00004.txt',\n",
      "     'KB_JB838_1955-08-25_01-00002.txt',\n",
      "     'KB_JB838_1955-09-02_01-00005.txt',\n",
      "     'KB_JB838_1955-09-18_01-00004.txt',\n",
      "     'KB_JB838_1955-09-18_01-00024.txt',\n",
      "     'KB_JB838_1955-09-30_01-00006.txt',\n",
      "     'KB_JB838_1955-10-10_01-00002.txt',\n",
      "     'KB_JB838_1955-10-21_01-00006.txt',\n",
      "     'KB_JB838_1955-11-03_01-00004.txt',\n",
      "     'KB_JB838_1955-11-06_01-00002.txt',\n",
      "     'KB_JB838_1955-11-08_01-00003.txt',\n",
      "     'KB_JB838_1955-11-10_01-00002.txt',\n",
      "     'KB_JB838_1955-11-23_01-00007.txt',\n",
      "     'KB_JB838_1955-12-07_01-00003.txt',\n",
      "     'KB_JB838_1955-12-22_01-00004.txt',\n",
      "     'KB_JB838_1956-02-15_01-00007.txt',\n",
      "     'KB_JB838_1956-02-19_01-00001.txt',\n",
      "     'KB_JB838_1956-02-26_01-00007.txt',\n",
      "     'KB_JB838_1956-02-27_01-00004.txt',\n",
      "     'KB_JB838_1956-02-28_01-00004.txt',\n",
      "     'KB_JB838_1956-02-29_01-00004.txt',\n",
      "     'KB_JB838_1956-02-29_01-00008.txt',\n",
      "     'KB_JB838_1956-03-21_01-00010.txt',\n",
      "     'KB_JB838_1956-03-31_01-00003.txt',\n",
      "     'KB_JB838_1956-05-11_01-00002.txt',\n",
      "     'KB_JB838_1956-05-12_01-00009.txt',\n",
      "     'KB_JB838_1956-05-18_01-00004.txt',\n",
      "     'KB_JB838_1956-05-23_01-00007.txt',\n",
      "     'KB_JB838_1956-06-02_01-00002.txt',\n",
      "     'KB_JB838_1956-06-30_01-00005.txt',\n",
      "     'KB_JB838_1956-07-04_01-00005.txt',\n",
      "     'KB_JB838_1956-07-08_01-00011.txt',\n",
      "     'KB_JB838_1956-08-14_01-00001.txt',\n",
      "     'KB_JB838_1956-08-24_01-00004.txt',\n",
      "     'KB_JB838_1956-10-19_01-00004.txt',\n",
      "     'KB_JB838_1956-11-06_01-00005.txt',\n",
      "     'KB_JB838_1956-11-11_01-00009.txt',\n",
      "     'KB_JB838_1956-12-07_01-00007.txt',\n",
      "     'KB_JB838_1956-12-11_01-00006.txt',\n",
      "     'KB_JB838_1956-12-17_01-00004.txt',\n",
      "     'KB_JB838_1956-12-20_01-00006.txt',\n",
      "     'KB_JB838_1957-01-20_01-00005.txt',\n",
      "     'KB_JB838_1957-02-09_01-00005.txt',\n",
      "     'KB_JB838_1957-03-09_01-00006.txt',\n",
      "     'KB_JB838_1957-03-11_01-00001.txt',\n",
      "     'KB_JB838_1957-03-13_01-00003.txt',\n",
      "     'KB_JB838_1957-03-13_01-00004.txt',\n",
      "     'KB_JB838_1957-03-24_01-00004.txt',\n",
      "     'KB_JB838_1957-04-08_01-00003.txt',\n",
      "     'KB_JB838_1957-04-11_01-00002.txt',\n",
      "     'KB_JB838_1957-04-15_01-00002.txt',\n",
      "     'KB_JB838_1957-04-15_01-00003.txt',\n",
      "     'KB_JB838_1957-04-20_01-00005.txt',\n",
      "     'KB_JB838_1957-04-21_01-00003.txt',\n",
      "     'KB_JB838_1957-04-28_01-00001.txt',\n",
      "     'KB_JB838_1957-05-08_01-00005.txt',\n",
      "     'KB_JB838_1957-05-09_01-00002.txt',\n",
      "     'KB_JB838_1957-05-18_01-00005.txt',\n",
      "     'KB_JB838_1957-06-01_01-00004.txt',\n",
      "     'KB_JB838_1957-06-15_01-00005.txt',\n",
      "     'KB_JB838_1957-07-06_01-00001.txt',\n",
      "     'KB_JB838_1957-08-05_01-00005.txt',\n",
      "     'KB_JB838_1957-08-11_01-00007.txt',\n",
      "     'KB_JB838_1957-08-20_01-00005.txt',\n",
      "     'KB_JB838_1957-08-30_01-00018.txt',\n",
      "     'KB_JB838_1957-09-13_01-00007.txt',\n",
      "     'KB_JB838_1957-10-03_01-00005.txt',\n",
      "     'KB_JB838_1957-10-09_01-00002.txt',\n",
      "     'KB_JB838_1957-10-19_01-00003.txt',\n",
      "     'KB_JB838_1957-10-23_01-00011.txt',\n",
      "     'KB_JB838_1957-10-25_01-00006.txt',\n",
      "     'KB_JB838_1957-10-31_01-00001.txt',\n",
      "     'KB_JB838_1957-10-31_01-00003.txt',\n",
      "     'KB_JB838_1957-11-03_01-00005.txt',\n",
      "     'KB_JB838_1957-11-20_01-00005.txt',\n",
      "     'KB_JB838_1957-11-27_01-00002.txt',\n",
      "     'KB_JB838_1957-12-13_01-00008.txt',\n",
      "     'KB_JB838_1958-01-16_01-00003.txt',\n",
      "     'KB_JB838_1958-02-26_01-00003.txt',\n",
      "     'KB_JB838_1958-03-09_01-00005.txt',\n",
      "     'KB_JB838_1958-03-25_01-00006.txt',\n",
      "     'KB_JB838_1958-03-26_01-00001.txt',\n",
      "     'KB_JB838_1958-04-14_01-00004.txt',\n",
      "     'KB_JB838_1958-05-02_01-00003.txt',\n",
      "     'KB_JB838_1958-05-14_01-00002.txt',\n",
      "     'KB_JB838_1958-05-24_01-00004.txt',\n",
      "     'KB_JB838_1958-06-18_01-00003.txt',\n",
      "     'KB_JB838_1958-06-28_01-00004.txt',\n",
      "     'KB_JB838_1958-07-03_01-00006.txt',\n",
      "     'KB_JB838_1958-07-04_01-00002.txt',\n",
      "     'KB_JB838_1958-07-04_01-00007.txt',\n",
      "     'KB_JB838_1958-07-28_01-00005.txt',\n",
      "     'KB_JB838_1958-08-01_01-00002.txt',\n",
      "     'KB_JB838_1958-08-01_01-00004.txt',\n",
      "     'KB_JB838_1958-08-16_01-00005.txt',\n",
      "     'KB_JB838_1958-08-30_01-00003.txt',\n",
      "     'KB_JB838_1958-09-13_01-00001.txt',\n",
      "     'KB_JB838_1958-09-18_01-00006.txt',\n",
      "     'KB_JB838_1958-10-07_01-00007.txt',\n",
      "     'KB_JB838_1958-10-10_01-00007.txt',\n",
      "     'KB_JB838_1958-10-20_01-00005.txt',\n",
      "     'KB_JB838_1958-11-16_01-00005.txt',\n",
      "     'KB_JB838_1958-11-22_01-00002.txt',\n",
      "     'KB_JB838_1958-11-25_01-00005.txt',\n",
      "     'KB_JB838_1958-12-03_01-00002.txt',\n",
      "     'KB_JB838_1958-12-03_01-00008.txt',\n",
      "     'KB_JB838_1958-12-06_01-00002.txt',\n",
      "     'KB_JB838_1958-12-20_01-00002.txt',\n",
      "     'KB_JB838_1958-12-20_01-00007.txt',\n",
      "     'KB_JB838_1959-01-04_01-00003.txt',\n",
      "     'KB_JB838_1959-02-03_01-00006.txt',\n",
      "     'KB_JB838_1959-02-05_01-00004.txt',\n",
      "     'KB_JB838_1959-02-08_01-00004.txt',\n",
      "     'KB_JB838_1959-02-11_01-00003.txt',\n",
      "     'KB_JB838_1959-02-17_01-00004.txt',\n",
      "     'KB_JB838_1959-02-20_01-00003.txt',\n",
      "     'KB_JB838_1959-02-20_01-00005.txt',\n",
      "     'KB_JB838_1959-03-13_01-00001.txt',\n",
      "     'KB_JB838_1959-03-13_01-00005.txt',\n",
      "     'KB_JB838_1959-04-09_01-00005.txt',\n",
      "     'KB_JB838_1959-04-24_01-00002.txt',\n",
      "     'KB_JB838_1959-04-25_01-00001.txt',\n",
      "     'KB_JB838_1959-04-29_01-00005.txt',\n",
      "     'KB_JB838_1959-05-09_01-00001.txt',\n",
      "     'KB_JB838_1959-05-28_01-00001.txt',\n",
      "     'KB_JB838_1959-06-04_01-00005.txt',\n",
      "     'KB_JB838_1959-06-28_01-00002.txt',\n",
      "     'KB_JB838_1959-06-30_01-00001.txt',\n",
      "     'KB_JB838_1959-07-02_01-00001.txt',\n",
      "     'KB_JB838_1959-07-31_01-00004.txt',\n",
      "     'KB_JB838_1959-08-04_01-00003.txt',\n",
      "     'KB_JB838_1959-09-29_01-00008.txt',\n",
      "     'KB_JB838_1959-10-06_01-00003.txt',\n",
      "     'KB_JB838_1959-10-27_01-00007.txt',\n",
      "     'KB_JB838_1959-11-15_01-00002.txt',\n",
      "     'KB_JB838_1959-11-19_01-00007.txt',\n",
      "     'KB_JB838_1959-11-22_01-00002.txt',\n",
      "     'KB_JB838_1959-11-22_01-00004.txt',\n",
      "     'KB_JB838_1959-11-24_01-00006.txt',\n",
      "     'KB_JB838_1959-12-09_01-00002.txt',\n",
      "     'KB_JB838_1959-12-27_01-00006.txt'],\n",
      " 4: ['KB_JB838_1950-01-08_01-00011.txt',\n",
      "     'KB_JB838_1950-03-29_01-00008.txt',\n",
      "     'KB_JB838_1950-04-21_01-00010.txt',\n",
      "     'KB_JB838_1950-05-20_01-00016.txt',\n",
      "     'KB_JB838_1950-06-04_01-00012.txt',\n",
      "     'KB_JB838_1950-06-24_01-00011.txt',\n",
      "     'KB_JB838_1950-06-25_01-00013.txt',\n",
      "     'KB_JB838_1950-07-08_01-00009.txt',\n",
      "     'KB_JB838_1950-07-20_01-00010.txt',\n",
      "     'KB_JB838_1950-09-21_01-00009.txt',\n",
      "     'KB_JB838_1950-10-15_01-00016.txt',\n",
      "     'KB_JB838_1950-11-04_01-00012.txt',\n",
      "     'KB_JB838_1950-11-09_01-00012.txt',\n",
      "     'KB_JB838_1950-12-14_01-00011.txt',\n",
      "     'KB_JB838_1951-01-04_01-00009.txt',\n",
      "     'KB_JB838_1951-01-13_01-00012.txt',\n",
      "     'KB_JB838_1951-01-23_01-00009.txt',\n",
      "     'KB_JB838_1951-01-25_01-00010.txt',\n",
      "     'KB_JB838_1951-02-03_01-00013.txt',\n",
      "     'KB_JB838_1951-02-14_01-00009.txt',\n",
      "     'KB_JB838_1951-02-24_01-00011.txt',\n",
      "     'KB_JB838_1951-03-06_01-00010.txt',\n",
      "     'KB_JB838_1951-04-11_01-00010.txt',\n",
      "     'KB_JB838_1951-05-13_01-00015.txt',\n",
      "     'KB_JB838_1951-05-24_01-00009.txt',\n",
      "     'KB_JB838_1951-05-26_01-00011.txt',\n",
      "     'KB_JB838_1951-05-27_01-00016.txt',\n",
      "     'KB_JB838_1951-05-31_01-00010.txt',\n",
      "     'KB_JB838_1951-06-24_01-00016.txt',\n",
      "     'KB_JB838_1951-07-04_01-00009.txt',\n",
      "     'KB_JB838_1951-07-13_01-00011.txt',\n",
      "     'KB_JB838_1951-07-13_01-00012.txt',\n",
      "     'KB_JB838_1951-08-28_01-00009.txt',\n",
      "     'KB_JB838_1951-11-13_01-00011.txt',\n",
      "     'KB_JB838_1951-12-28_01-00010.txt',\n",
      "     'KB_JB838_1952-01-13_01-00013.txt',\n",
      "     'KB_JB838_1952-01-24_01-00013.txt',\n",
      "     'KB_JB838_1952-02-05_01-00010.txt',\n",
      "     'KB_JB838_1952-02-29_01-00010.txt',\n",
      "     'KB_JB838_1952-05-14_01-00010.txt',\n",
      "     'KB_JB838_1952-06-04_01-00008.txt',\n",
      "     'KB_JB838_1952-06-21_01-00009.txt',\n",
      "     'KB_JB838_1952-07-01_01-00011.txt',\n",
      "     'KB_JB838_1952-09-12_01-00009.txt',\n",
      "     'KB_JB838_1952-09-17_01-00010.txt',\n",
      "     'KB_JB838_1952-11-14_01-00012.txt',\n",
      "     'KB_JB838_1952-11-16_01-00017.txt',\n",
      "     'KB_JB838_1952-11-30_01-00014.txt',\n",
      "     'KB_JB838_1953-01-22_01-00009.txt',\n",
      "     'KB_JB838_1953-01-24_01-00011.txt',\n",
      "     'KB_JB838_1953-01-28_01-00010.txt',\n",
      "     'KB_JB838_1953-02-20_01-00012.txt',\n",
      "     'KB_JB838_1953-05-31_01-00014.txt',\n",
      "     'KB_JB838_1953-06-02_01-00010.txt',\n",
      "     'KB_JB838_1953-07-01_01-00011.txt',\n",
      "     'KB_JB838_1953-07-10_01-00012.txt',\n",
      "     'KB_JB838_1953-07-11_01-00012.txt',\n",
      "     'KB_JB838_1953-07-18_01-00011.txt',\n",
      "     'KB_JB838_1953-08-02_01-00011.txt',\n",
      "     'KB_JB838_1953-08-15_01-00012.txt',\n",
      "     'KB_JB838_1953-10-30_01-00012.txt',\n",
      "     'KB_JB838_1954-01-03_01-00016.txt',\n",
      "     'KB_JB838_1954-01-17_01-00012.txt',\n",
      "     'KB_JB838_1954-01-24_01-00015.txt',\n",
      "     'KB_JB838_1954-02-21_01-00013.txt',\n",
      "     'KB_JB838_1954-04-23_01-00011.txt',\n",
      "     'KB_JB838_1954-04-23_01-00012.txt',\n",
      "     'KB_JB838_1954-05-08_01-00013.txt',\n",
      "     'KB_JB838_1954-05-12_01-00009.txt',\n",
      "     'KB_JB838_1954-06-12_01-00015.txt',\n",
      "     'KB_JB838_1954-06-20_01-00017.txt',\n",
      "     'KB_JB838_1954-07-13_01-00011.txt',\n",
      "     'KB_JB838_1954-10-07_01-00012.txt',\n",
      "     'KB_JB838_1954-10-27_01-00013.txt',\n",
      "     'KB_JB838_1954-10-31_01-00016.txt',\n",
      "     'KB_JB838_1954-11-21_01-00016.txt',\n",
      "     'KB_JB838_1954-11-28_01-00016.txt',\n",
      "     'KB_JB838_1955-01-18_01-00010.txt',\n",
      "     'KB_JB838_1955-01-28_01-00012.txt',\n",
      "     'KB_JB838_1955-02-08_01-00011.txt',\n",
      "     'KB_JB838_1955-02-23_01-00011.txt',\n",
      "     'KB_JB838_1955-09-29_01-00018.txt',\n",
      "     'KB_JB838_1955-10-06_01-00016.txt',\n",
      "     'KB_JB838_1955-10-15_01-00011.txt',\n",
      "     'KB_JB838_1955-12-16_01-00016.txt',\n",
      "     'KB_JB838_1956-03-01_01-00016.txt',\n",
      "     'KB_JB838_1956-05-10_01-00017.txt',\n",
      "     'KB_JB838_1956-05-30_01-00013.txt',\n",
      "     'KB_JB838_1956-06-10_01-00014.txt',\n",
      "     'KB_JB838_1956-06-15_01-00015.txt',\n",
      "     'KB_JB838_1956-06-22_01-00016.txt',\n",
      "     'KB_JB838_1956-07-10_01-00012.txt',\n",
      "     'KB_JB838_1956-09-27_01-00014.txt',\n",
      "     'KB_JB838_1956-10-24_01-00013.txt',\n",
      "     'KB_JB838_1956-11-15_01-00014.txt',\n",
      "     'KB_JB838_1956-11-16_01-00014.txt',\n",
      "     'KB_JB838_1956-12-12_01-00013.txt',\n",
      "     'KB_JB838_1957-02-06_01-00013.txt',\n",
      "     'KB_JB838_1957-02-27_01-00011.txt',\n",
      "     'KB_JB838_1957-03-02_01-00013.txt',\n",
      "     'KB_JB838_1957-03-13_01-00012.txt',\n",
      "     'KB_JB838_1957-03-14_01-00015.txt',\n",
      "     'KB_JB838_1957-06-02_01-00015.txt',\n",
      "     'KB_JB838_1957-06-02_01-00016.txt',\n",
      "     'KB_JB838_1957-06-06_01-00017.txt',\n",
      "     'KB_JB838_1957-06-13_01-00016.txt',\n",
      "     'KB_JB838_1957-07-09_01-00011.txt',\n",
      "     'KB_JB838_1957-07-10_01-00012.txt',\n",
      "     'KB_JB838_1957-11-07_01-00017.txt',\n",
      "     'KB_JB838_1957-11-28_01-00015.txt',\n",
      "     'KB_JB838_1957-12-15_01-00015.txt',\n",
      "     'KB_JB838_1958-02-02_01-00013.txt',\n",
      "     'KB_JB838_1958-03-23_01-00015.txt',\n",
      "     'KB_JB838_1958-04-10_01-00015.txt',\n",
      "     'KB_JB838_1958-05-08_01-00016.txt',\n",
      "     'KB_JB838_1958-05-14_01-00014.txt',\n",
      "     'KB_JB838_1958-06-19_01-00017.txt',\n",
      "     'KB_JB838_1958-06-29_01-00016.txt',\n",
      "     'KB_JB838_1958-07-11_01-00015.txt',\n",
      "     'KB_JB838_1958-07-17_01-00016.txt',\n",
      "     'KB_JB838_1958-09-18_01-00017.txt',\n",
      "     'KB_JB838_1958-12-17_01-00014.txt',\n",
      "     'KB_JB838_1958-12-21_01-00016.txt',\n",
      "     'KB_JB838_1959-02-19_01-00016.txt',\n",
      "     'KB_JB838_1959-03-20_01-00018.txt',\n",
      "     'KB_JB838_1959-05-06_01-00014.txt',\n",
      "     'KB_JB838_1959-06-26_01-00017.txt',\n",
      "     'KB_JB838_1959-07-16_01-00016.txt',\n",
      "     'KB_JB838_1959-09-05_01-00016.txt',\n",
      "     'KB_JB838_1959-10-01_01-00016.txt',\n",
      "     'KB_JB838_1959-11-05_01-00019.txt',\n",
      "     'KB_JB838_1959-11-11_01-00017.txt']}\n"
     ]
    }
   ],
   "source": [
    "pprint(dict(clustering))"
   ]
  },
  {
   "cell_type": "markdown",
   "metadata": {},
   "source": [
    "## Visualiser les clusters"
   ]
  },
  {
   "cell_type": "markdown",
   "metadata": {},
   "source": [
    "### Réduire les vecteurs à 2 dimensions à l'aide de l'algorithme PCA\n",
    "Cette étape est nécessaire afin de visualiser les documents dans un espace 2D\n",
    "\n",
    "https://fr.wikipedia.org/wiki/Analyse_en_composantes_principales"
   ]
  },
  {
   "cell_type": "code",
   "execution_count": 26,
   "metadata": {},
   "outputs": [],
   "source": [
    "pca = PCA(n_components=2)\n",
    "reduced_vectors = pca.fit_transform(tfidf_vectors.toarray())"
   ]
  },
  {
   "cell_type": "code",
   "execution_count": 27,
   "metadata": {},
   "outputs": [
    {
     "data": {
      "text/plain": [
       "array([[-0.32580699,  0.11404402],\n",
       "       [ 0.11344714, -0.30211054],\n",
       "       [ 0.44352734, -0.25255146],\n",
       "       [-0.23898552, -0.03761802],\n",
       "       [-0.05189779, -0.10505105],\n",
       "       [ 0.61297815,  0.50406069],\n",
       "       [-0.2041063 , -0.03508451],\n",
       "       [-0.19454706, -0.0381563 ],\n",
       "       [ 0.62392888,  0.45588671],\n",
       "       [ 0.15642298, -0.01433041]])"
      ]
     },
     "execution_count": 27,
     "metadata": {},
     "output_type": "execute_result"
    }
   ],
   "source": [
    "reduced_vectors[:10]"
   ]
  },
  {
   "cell_type": "markdown",
   "metadata": {},
   "source": [
    "### Générer le plot"
   ]
  },
  {
   "cell_type": "code",
   "execution_count": 28,
   "metadata": {},
   "outputs": [
    {
     "data": {
      "text/plain": [
       "<matplotlib.legend.Legend at 0x213bf729c50>"
      ]
     },
     "execution_count": 28,
     "metadata": {},
     "output_type": "execute_result"
    },
    {
     "data": {
      "image/png": "[encoded data removed]",
      "text/plain": [
       "<Figure size 1000x1000 with 1 Axes>"
      ]
     },
     "metadata": {},
     "output_type": "display_data"
    }
   ],
   "source": [
    "x_axis = reduced_vectors[:, 0]\n",
    "y_axis = reduced_vectors[:, 1]\n",
    "\n",
    "plt.figure(figsize=(10,10))\n",
    "scatter = plt.scatter(x_axis, y_axis, s=100, c=clusters)\n",
    "\n",
    "# Ajouter les centroïdes\n",
    "centroids = pca.transform(km_model.cluster_centers_)\n",
    "plt.scatter(centroids[:, 0], centroids[:, 1],  marker = \"x\", s=100, linewidths = 2, color='black')\n",
    "\n",
    "# Ajouter la légende\n",
    "plt.legend(handles=scatter.legend_elements()[0], labels=set(clusters), title=\"Clusters\")"
   ]
  },
  {
   "cell_type": "markdown",
   "metadata": {},
   "source": [
    "### 3. Interprétation des résultats\n",
    "Les résultats du clustering montrent que les documents sont bien regroupés en fonction de leurs thèmes :\n",
    "\n",
    "Cluster 0 (violet) : Contient des documents sur des événements de guerre.\n",
    "Cluster 1 (bleu) : Regroupe des textes politiques, souvent liés à des annonces présidentielles.\n",
    "Cluster 2 (cyan) : Mélange de documents sur des thèmes économiques et politiques.\n",
    "Cluster 3 (jaune) : Textes axés sur la reprise économique et la croissance.\n",
    "Cluster 4 (vert) : Documents concernant les négociations de paix et la diplomatie.\n",
    "Les clusters sont bien séparés, ce qui montre que le modèle a capturé les thématiques principales de manière cohérente."
   ]
  },
  {
   "cell_type": "markdown",
   "metadata": {},
   "source": [
    "### 4. Téléchargement et préparation du fichier sents.txt\n",
    "Le fichier sents.txt a été téléchargé et placé dans le dossier data/. Ce fichier contient des phrases segmentées, prêtes pour l'entraînement du modèle Word2Vec."
   ]
  },
  {
   "cell_type": "markdown",
   "metadata": {},
   "source": [
    "### 5. Entraîner un modèle Word2Vec\n",
    "J'ai utilisé le fichier sents.txt pour entraîner un modèle Word2Vec en utilisant le notebook s3_word_embeddings.ipynb."
   ]
  },
  {
   "cell_type": "code",
   "execution_count": null,
   "metadata": {},
   "outputs": [
    {
     "name": "stderr",
     "output_type": "stream",
     "text": [
      "[nltk_data] Downloading package punkt to C:\\Users\\Marouane\n",
      "[nltk_data]     Bidoukhach\\AppData\\Roaming\\nltk_data...\n",
      "[nltk_data]   Package punkt is already up-to-date!\n"
     ]
    }
   ],
   "source": [
    "from gensim.models.phrases import Phrases, Phraser\n",
    "from gensim.models import Word2Vec\n",
    "import nltk\n",
    "from nltk.tokenize import wordpunct_tokenize\n",
    "from unidecode import unidecode\n",
    "\n",
    "nltk.download('punkt')\n",
    "\n",
    "# Charger et traiter les phrases du corpus\n",
    "class MySentences(object):\n",
    "    def __init__(self, filename):\n",
    "        self.filename = filename\n",
    "\n",
    "    def __iter__(self):\n",
    "        for line in open(self.filename, encoding='utf-8'):\n",
    "            yield [unidecode(w.lower()) for w in wordpunct_tokenize(line)]\n",
    "\n",
    "infile = \"../data/sents.txt\"\n",
    "sentences = MySentences(infile)\n",
    "\n",
    "# Détection des bigrams et trigrams\n",
    "bigram_phrases = Phrases(sentences)\n",
    "bigram_phraser = Phraser(bigram_phrases)\n",
    "trigram_phrases = Phrases(bigram_phraser[sentences])\n",
    "trigram_phraser = Phraser(trigram_phrases)\n",
    "corpus = list(trigram_phraser[bigram_phraser[sentences]])\n",
    "\n",
    "# Entraîner le modèle Word2Vec\n",
    "model = Word2Vec(corpus, vector_size=32, window=1, min_count=1, workers=4, epochs=5)\n",
    "model.save(\"../data/word2vec.model\")\n"
   ]
  },
  {
   "cell_type": "markdown",
   "metadata": {},
   "source": [
    "### 6. Comparaison des modèles\n",
    "J'ai testé plusieurs configurations.\n",
    "\n",
    "Configuration : window = 5, min_count = 5\n",
    "\n",
    "Cette configuration a pris environ 70 minutes pour l'entraînement sur mon système.\n",
    "Elle a donné des résultats satisfaisants, capturant bien les relations contextuelles.\n",
    "Cependant, le temps d'entraînement était très long, probablement à cause de la taille de la fenêtre (window = 5), qui analyse un contexte large autour de chaque mot."
   ]
  },
  {
   "cell_type": "markdown",
   "metadata": {},
   "source": [
    "### 7. Exploration du modèle\n",
    "J'ai utilisé les fonctions most_similar et similarity pour analyser le modèle."
   ]
  },
  {
   "cell_type": "code",
   "execution_count": null,
   "metadata": {},
   "outputs": [
    {
     "ename": "FileNotFoundError",
     "evalue": "[Errno 2] No such file or directory: '../data/newspapers.model'",
     "output_type": "error",
     "traceback": [
      "\u001b[1;31m---------------------------------------------------------------------------\u001b[0m",
      "\u001b[1;31mFileNotFoundError\u001b[0m                         Traceback (most recent call last)",
      "Cell \u001b[1;32mIn[4], line 5\u001b[0m\n\u001b[0;32m      2\u001b[0m \u001b[38;5;28;01mfrom\u001b[39;00m \u001b[38;5;21;01mgensim\u001b[39;00m\u001b[38;5;21;01m.\u001b[39;00m\u001b[38;5;21;01mmodels\u001b[39;00m \u001b[38;5;28;01mimport\u001b[39;00m Word2Vec\n\u001b[0;32m      4\u001b[0m \u001b[38;5;66;03m# Charger le modèle Word2Vec depuis le fichier sauvegardé\u001b[39;00m\n\u001b[1;32m----> 5\u001b[0m model \u001b[38;5;241m=\u001b[39m \u001b[43mWord2Vec\u001b[49m\u001b[38;5;241;43m.\u001b[39;49m\u001b[43mload\u001b[49m\u001b[43m(\u001b[49m\u001b[38;5;124;43m\"\u001b[39;49m\u001b[38;5;124;43m../data/newspapers.model\u001b[39;49m\u001b[38;5;124;43m\"\u001b[39;49m\u001b[43m)\u001b[49m\n\u001b[0;32m      7\u001b[0m \u001b[38;5;66;03m# 1. Utilisation de la fonction 'similarity'\u001b[39;00m\n\u001b[0;32m      8\u001b[0m similarity_examples \u001b[38;5;241m=\u001b[39m [\n\u001b[0;32m      9\u001b[0m     (\u001b[38;5;124m\"\u001b[39m\u001b[38;5;124mministre\u001b[39m\u001b[38;5;124m\"\u001b[39m, \u001b[38;5;124m\"\u001b[39m\u001b[38;5;124mroi\u001b[39m\u001b[38;5;124m\"\u001b[39m),\n\u001b[0;32m     10\u001b[0m     (\u001b[38;5;124m\"\u001b[39m\u001b[38;5;124mguerre\u001b[39m\u001b[38;5;124m\"\u001b[39m, \u001b[38;5;124m\"\u001b[39m\u001b[38;5;124mpaix\u001b[39m\u001b[38;5;124m\"\u001b[39m),\n\u001b[0;32m     11\u001b[0m     (\u001b[38;5;124m\"\u001b[39m\u001b[38;5;124méconomie\u001b[39m\u001b[38;5;124m\"\u001b[39m, \u001b[38;5;124m\"\u001b[39m\u001b[38;5;124mfinance\u001b[39m\u001b[38;5;124m\"\u001b[39m)\n\u001b[0;32m     12\u001b[0m ]\n",
      "File \u001b[1;32mc:\\Users\\Marouane Bidoukhach\\TAC2\\tac\\.env\\Lib\\site-packages\\gensim\\models\\word2vec.py:1953\u001b[0m, in \u001b[0;36mWord2Vec.load\u001b[1;34m(cls, rethrow, *args, **kwargs)\u001b[0m\n\u001b[0;32m   1934\u001b[0m \u001b[38;5;250m\u001b[39m\u001b[38;5;124;03m\"\"\"Load a previously saved :class:`~gensim.models.word2vec.Word2Vec` model.\u001b[39;00m\n\u001b[0;32m   1935\u001b[0m \n\u001b[0;32m   1936\u001b[0m \u001b[38;5;124;03mSee Also\u001b[39;00m\n\u001b[1;32m   (...)\u001b[0m\n\u001b[0;32m   1950\u001b[0m \n\u001b[0;32m   1951\u001b[0m \u001b[38;5;124;03m\"\"\"\u001b[39;00m\n\u001b[0;32m   1952\u001b[0m \u001b[38;5;28;01mtry\u001b[39;00m:\n\u001b[1;32m-> 1953\u001b[0m     model \u001b[38;5;241m=\u001b[39m \u001b[38;5;28;43msuper\u001b[39;49m\u001b[43m(\u001b[49m\u001b[43mWord2Vec\u001b[49m\u001b[43m,\u001b[49m\u001b[43m \u001b[49m\u001b[38;5;28;43mcls\u001b[39;49m\u001b[43m)\u001b[49m\u001b[38;5;241;43m.\u001b[39;49m\u001b[43mload\u001b[49m\u001b[43m(\u001b[49m\u001b[38;5;241;43m*\u001b[39;49m\u001b[43margs\u001b[49m\u001b[43m,\u001b[49m\u001b[43m \u001b[49m\u001b[38;5;241;43m*\u001b[39;49m\u001b[38;5;241;43m*\u001b[39;49m\u001b[43mkwargs\u001b[49m\u001b[43m)\u001b[49m\n\u001b[0;32m   1954\u001b[0m     \u001b[38;5;28;01mif\u001b[39;00m \u001b[38;5;129;01mnot\u001b[39;00m \u001b[38;5;28misinstance\u001b[39m(model, Word2Vec):\n\u001b[0;32m   1955\u001b[0m         rethrow \u001b[38;5;241m=\u001b[39m \u001b[38;5;28;01mTrue\u001b[39;00m\n",
      "File \u001b[1;32mc:\\Users\\Marouane Bidoukhach\\TAC2\\tac\\.env\\Lib\\site-packages\\gensim\\utils.py:485\u001b[0m, in \u001b[0;36mSaveLoad.load\u001b[1;34m(cls, fname, mmap)\u001b[0m\n\u001b[0;32m    481\u001b[0m logger\u001b[38;5;241m.\u001b[39minfo(\u001b[38;5;124m\"\u001b[39m\u001b[38;5;124mloading \u001b[39m\u001b[38;5;132;01m%s\u001b[39;00m\u001b[38;5;124m object from \u001b[39m\u001b[38;5;132;01m%s\u001b[39;00m\u001b[38;5;124m\"\u001b[39m, \u001b[38;5;28mcls\u001b[39m\u001b[38;5;241m.\u001b[39m\u001b[38;5;18m__name__\u001b[39m, fname)\n\u001b[0;32m    483\u001b[0m compress, subname \u001b[38;5;241m=\u001b[39m SaveLoad\u001b[38;5;241m.\u001b[39m_adapt_by_suffix(fname)\n\u001b[1;32m--> 485\u001b[0m obj \u001b[38;5;241m=\u001b[39m \u001b[43munpickle\u001b[49m\u001b[43m(\u001b[49m\u001b[43mfname\u001b[49m\u001b[43m)\u001b[49m\n\u001b[0;32m    486\u001b[0m obj\u001b[38;5;241m.\u001b[39m_load_specials(fname, mmap, compress, subname)\n\u001b[0;32m    487\u001b[0m obj\u001b[38;5;241m.\u001b[39madd_lifecycle_event(\u001b[38;5;124m\"\u001b[39m\u001b[38;5;124mloaded\u001b[39m\u001b[38;5;124m\"\u001b[39m, fname\u001b[38;5;241m=\u001b[39mfname)\n",
      "File \u001b[1;32mc:\\Users\\Marouane Bidoukhach\\TAC2\\tac\\.env\\Lib\\site-packages\\gensim\\utils.py:1459\u001b[0m, in \u001b[0;36munpickle\u001b[1;34m(fname)\u001b[0m\n\u001b[0;32m   1445\u001b[0m \u001b[38;5;28;01mdef\u001b[39;00m \u001b[38;5;21munpickle\u001b[39m(fname):\n\u001b[0;32m   1446\u001b[0m \u001b[38;5;250m    \u001b[39m\u001b[38;5;124;03m\"\"\"Load object from `fname`, using smart_open so that `fname` can be on S3, HDFS, compressed etc.\u001b[39;00m\n\u001b[0;32m   1447\u001b[0m \n\u001b[0;32m   1448\u001b[0m \u001b[38;5;124;03m    Parameters\u001b[39;00m\n\u001b[1;32m   (...)\u001b[0m\n\u001b[0;32m   1457\u001b[0m \n\u001b[0;32m   1458\u001b[0m \u001b[38;5;124;03m    \"\"\"\u001b[39;00m\n\u001b[1;32m-> 1459\u001b[0m     \u001b[38;5;28;01mwith\u001b[39;00m \u001b[38;5;28;43mopen\u001b[39;49m\u001b[43m(\u001b[49m\u001b[43mfname\u001b[49m\u001b[43m,\u001b[49m\u001b[43m \u001b[49m\u001b[38;5;124;43m'\u001b[39;49m\u001b[38;5;124;43mrb\u001b[39;49m\u001b[38;5;124;43m'\u001b[39;49m\u001b[43m)\u001b[49m \u001b[38;5;28;01mas\u001b[39;00m f:\n\u001b[0;32m   1460\u001b[0m         \u001b[38;5;28;01mreturn\u001b[39;00m _pickle\u001b[38;5;241m.\u001b[39mload(f, encoding\u001b[38;5;241m=\u001b[39m\u001b[38;5;124m'\u001b[39m\u001b[38;5;124mlatin1\u001b[39m\u001b[38;5;124m'\u001b[39m)\n",
      "File \u001b[1;32mc:\\Users\\Marouane Bidoukhach\\TAC2\\tac\\.env\\Lib\\site-packages\\smart_open\\smart_open_lib.py:177\u001b[0m, in \u001b[0;36mopen\u001b[1;34m(uri, mode, buffering, encoding, errors, newline, closefd, opener, compression, transport_params)\u001b[0m\n\u001b[0;32m    174\u001b[0m \u001b[38;5;28;01mif\u001b[39;00m transport_params \u001b[38;5;129;01mis\u001b[39;00m \u001b[38;5;28;01mNone\u001b[39;00m:\n\u001b[0;32m    175\u001b[0m     transport_params \u001b[38;5;241m=\u001b[39m {}\n\u001b[1;32m--> 177\u001b[0m fobj \u001b[38;5;241m=\u001b[39m \u001b[43m_shortcut_open\u001b[49m\u001b[43m(\u001b[49m\n\u001b[0;32m    178\u001b[0m \u001b[43m    \u001b[49m\u001b[43muri\u001b[49m\u001b[43m,\u001b[49m\n\u001b[0;32m    179\u001b[0m \u001b[43m    \u001b[49m\u001b[43mmode\u001b[49m\u001b[43m,\u001b[49m\n\u001b[0;32m    180\u001b[0m \u001b[43m    \u001b[49m\u001b[43mcompression\u001b[49m\u001b[38;5;241;43m=\u001b[39;49m\u001b[43mcompression\u001b[49m\u001b[43m,\u001b[49m\n\u001b[0;32m    181\u001b[0m \u001b[43m    \u001b[49m\u001b[43mbuffering\u001b[49m\u001b[38;5;241;43m=\u001b[39;49m\u001b[43mbuffering\u001b[49m\u001b[43m,\u001b[49m\n\u001b[0;32m    182\u001b[0m \u001b[43m    \u001b[49m\u001b[43mencoding\u001b[49m\u001b[38;5;241;43m=\u001b[39;49m\u001b[43mencoding\u001b[49m\u001b[43m,\u001b[49m\n\u001b[0;32m    183\u001b[0m \u001b[43m    \u001b[49m\u001b[43merrors\u001b[49m\u001b[38;5;241;43m=\u001b[39;49m\u001b[43merrors\u001b[49m\u001b[43m,\u001b[49m\n\u001b[0;32m    184\u001b[0m \u001b[43m    \u001b[49m\u001b[43mnewline\u001b[49m\u001b[38;5;241;43m=\u001b[39;49m\u001b[43mnewline\u001b[49m\u001b[43m,\u001b[49m\n\u001b[0;32m    185\u001b[0m \u001b[43m\u001b[49m\u001b[43m)\u001b[49m\n\u001b[0;32m    186\u001b[0m \u001b[38;5;28;01mif\u001b[39;00m fobj \u001b[38;5;129;01mis\u001b[39;00m \u001b[38;5;129;01mnot\u001b[39;00m \u001b[38;5;28;01mNone\u001b[39;00m:\n\u001b[0;32m    187\u001b[0m     \u001b[38;5;28;01mreturn\u001b[39;00m fobj\n",
      "File \u001b[1;32mc:\\Users\\Marouane Bidoukhach\\TAC2\\tac\\.env\\Lib\\site-packages\\smart_open\\smart_open_lib.py:363\u001b[0m, in \u001b[0;36m_shortcut_open\u001b[1;34m(uri, mode, compression, buffering, encoding, errors, newline)\u001b[0m\n\u001b[0;32m    360\u001b[0m \u001b[38;5;28;01mif\u001b[39;00m errors \u001b[38;5;129;01mand\u001b[39;00m \u001b[38;5;124m'\u001b[39m\u001b[38;5;124mb\u001b[39m\u001b[38;5;124m'\u001b[39m \u001b[38;5;129;01mnot\u001b[39;00m \u001b[38;5;129;01min\u001b[39;00m mode:\n\u001b[0;32m    361\u001b[0m     open_kwargs[\u001b[38;5;124m'\u001b[39m\u001b[38;5;124merrors\u001b[39m\u001b[38;5;124m'\u001b[39m] \u001b[38;5;241m=\u001b[39m errors\n\u001b[1;32m--> 363\u001b[0m \u001b[38;5;28;01mreturn\u001b[39;00m \u001b[43m_builtin_open\u001b[49m\u001b[43m(\u001b[49m\u001b[43mlocal_path\u001b[49m\u001b[43m,\u001b[49m\u001b[43m \u001b[49m\u001b[43mmode\u001b[49m\u001b[43m,\u001b[49m\u001b[43m \u001b[49m\u001b[43mbuffering\u001b[49m\u001b[38;5;241;43m=\u001b[39;49m\u001b[43mbuffering\u001b[49m\u001b[43m,\u001b[49m\u001b[43m \u001b[49m\u001b[38;5;241;43m*\u001b[39;49m\u001b[38;5;241;43m*\u001b[39;49m\u001b[43mopen_kwargs\u001b[49m\u001b[43m)\u001b[49m\n",
      "\u001b[1;31mFileNotFoundError\u001b[0m: [Errno 2] No such file or directory: '../data/newspapers.model'"
     ]
    }
   ],
   "source": [
    "# Charger le modèle Word2Vec depuis le fichier sauvegardé\n",
    "model = Word2Vec.load(\"../data/word2vec.model\")\n",
    "\n",
    "# 1. Calculer la similarité entre plusieurs paires de mots\n",
    "similarity_pairs = [\n",
    "    (\"guerre\", \"conflit\"),\n",
    "    (\"paix\", \"harmonie\"),\n",
    "    (\"président\", \"ministre\"),\n",
    "    (\"économie\", \"croissance\"),\n",
    "    (\"guerre\", \"paix\")\n",
    "]\n",
    "\n",
    "print(\"Similarité entre les mots :\")\n",
    "for word1, word2 in similarity_pairs:\n",
    "    if word1 in model.wv and word2 in model.wv:\n",
    "        similarity_score = model.wv.similarity(word1, word2)\n",
    "        print(f\"  - Similarité entre '{word1}' et '{word2}': {similarity_score:.4f}\")\n",
    "    else:\n",
    "        print(f\"  - Les mots '{word1}' ou '{word2}' ne sont pas dans le vocabulaire.\")\n",
    "\n",
    "# 2. Trouver les mots les plus similaires pour trois exemples\n",
    "example_words = ['guerre', 'paix', 'président']\n",
    "\n",
    "print(\"\\nMots les plus similaires :\")\n",
    "for word in example_words:\n",
    "    if word in model.wv:\n",
    "        most_similar_words = model.wv.most_similar(word, topn=5)\n",
    "        print(f\"  - Mots similaires à '{word}':\")\n",
    "        for similar_word, score in most_similar_words:\n",
    "            print(f\"    - {similar_word}: {score:.4f}\")\n",
    "    else:\n",
    "        print(f\"  - Le mot '{word}' n'est pas dans le vocabulaire.\")\n"
   ]
  }
 ],
 "metadata": {
  "kernelspec": {
   "display_name": ".env",
   "language": "python",
   "name": "python3"
  },
  "language_info": {
   "codemirror_mode": {
    "name": "ipython",
    "version": 3
   },
   "file_extension": ".py",
   "mimetype": "text/x-python",
   "name": "python",
   "nbconvert_exporter": "python",
   "pygments_lexer": "ipython3",
   "version": "3.11.9"
  }
 },
 "nbformat": 4,
 "nbformat_minor": 4
}
